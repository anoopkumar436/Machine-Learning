{
 "cells": [
  {
   "cell_type": "markdown",
   "metadata": {},
   "source": [
    "# Predict the survival of a horse based on various observed medical conditions."
   ]
  },
  {
   "cell_type": "markdown",
   "metadata": {},
   "source": [
    "##  Objective: \"Random Forest Classifier\" and \"Decision Tree\" Which algorithm gives us a better model?"
   ]
  },
  {
   "cell_type": "code",
   "execution_count": 1,
   "metadata": {},
   "outputs": [],
   "source": [
    "# 1. Load the data from \"horse.csv\"\n",
    "# 2. check whether it contains any missing values.\n",
    "# 3. The dataset contains many categorical features; replace them with the label encoding.\n",
    "# 4. Replace the missing values with the most frequent value in each column.\n",
    "# 5. Fit a decision tree classifier and random forest classifier and observe the accuracy.\n",
    "#-------------------------------------------------------------------------------------\n",
    "#  you are supposed to fit a decision tree and compare its accuracy with random forest classifier."
   ]
  },
  {
   "cell_type": "code",
   "execution_count": 424,
   "metadata": {},
   "outputs": [],
   "source": [
    "# import some useful libraries.\n",
    "import numpy as np\n",
    "import pandas as pd\n",
    "import seaborn as sns\n",
    "import matplotlib.pyplot as plt\n",
    "%matplotlib inline"
   ]
  },
  {
   "cell_type": "code",
   "execution_count": 425,
   "metadata": {},
   "outputs": [],
   "source": [
    "# 1. Load the data from \"horse.csv\".\n",
    "data = pd.read_csv(\"horse.csv\")"
   ]
  },
  {
   "cell_type": "code",
   "execution_count": 426,
   "metadata": {},
   "outputs": [
    {
     "data": {
      "text/html": [
       "<div>\n",
       "<style scoped>\n",
       "    .dataframe tbody tr th:only-of-type {\n",
       "        vertical-align: middle;\n",
       "    }\n",
       "\n",
       "    .dataframe tbody tr th {\n",
       "        vertical-align: top;\n",
       "    }\n",
       "\n",
       "    .dataframe thead th {\n",
       "        text-align: right;\n",
       "    }\n",
       "</style>\n",
       "<table border=\"1\" class=\"dataframe\">\n",
       "  <thead>\n",
       "    <tr style=\"text-align: right;\">\n",
       "      <th></th>\n",
       "      <th>surgery</th>\n",
       "      <th>age</th>\n",
       "      <th>hospital_number</th>\n",
       "      <th>rectal_temp</th>\n",
       "      <th>pulse</th>\n",
       "      <th>respiratory_rate</th>\n",
       "      <th>temp_of_extremities</th>\n",
       "      <th>peripheral_pulse</th>\n",
       "      <th>mucous_membrane</th>\n",
       "      <th>capillary_refill_time</th>\n",
       "      <th>...</th>\n",
       "      <th>packed_cell_volume</th>\n",
       "      <th>total_protein</th>\n",
       "      <th>abdomo_appearance</th>\n",
       "      <th>abdomo_protein</th>\n",
       "      <th>outcome</th>\n",
       "      <th>surgical_lesion</th>\n",
       "      <th>lesion_1</th>\n",
       "      <th>lesion_2</th>\n",
       "      <th>lesion_3</th>\n",
       "      <th>cp_data</th>\n",
       "    </tr>\n",
       "  </thead>\n",
       "  <tbody>\n",
       "    <tr>\n",
       "      <th>0</th>\n",
       "      <td>no</td>\n",
       "      <td>adult</td>\n",
       "      <td>530101</td>\n",
       "      <td>38.5</td>\n",
       "      <td>66.0</td>\n",
       "      <td>28.0</td>\n",
       "      <td>cool</td>\n",
       "      <td>reduced</td>\n",
       "      <td>NaN</td>\n",
       "      <td>more_3_sec</td>\n",
       "      <td>...</td>\n",
       "      <td>45.0</td>\n",
       "      <td>8.4</td>\n",
       "      <td>NaN</td>\n",
       "      <td>NaN</td>\n",
       "      <td>died</td>\n",
       "      <td>no</td>\n",
       "      <td>11300</td>\n",
       "      <td>0</td>\n",
       "      <td>0</td>\n",
       "      <td>no</td>\n",
       "    </tr>\n",
       "    <tr>\n",
       "      <th>1</th>\n",
       "      <td>yes</td>\n",
       "      <td>adult</td>\n",
       "      <td>534817</td>\n",
       "      <td>39.2</td>\n",
       "      <td>88.0</td>\n",
       "      <td>20.0</td>\n",
       "      <td>NaN</td>\n",
       "      <td>NaN</td>\n",
       "      <td>pale_cyanotic</td>\n",
       "      <td>less_3_sec</td>\n",
       "      <td>...</td>\n",
       "      <td>50.0</td>\n",
       "      <td>85.0</td>\n",
       "      <td>cloudy</td>\n",
       "      <td>2.0</td>\n",
       "      <td>euthanized</td>\n",
       "      <td>no</td>\n",
       "      <td>2208</td>\n",
       "      <td>0</td>\n",
       "      <td>0</td>\n",
       "      <td>no</td>\n",
       "    </tr>\n",
       "    <tr>\n",
       "      <th>2</th>\n",
       "      <td>no</td>\n",
       "      <td>adult</td>\n",
       "      <td>530334</td>\n",
       "      <td>38.3</td>\n",
       "      <td>40.0</td>\n",
       "      <td>24.0</td>\n",
       "      <td>normal</td>\n",
       "      <td>normal</td>\n",
       "      <td>pale_pink</td>\n",
       "      <td>less_3_sec</td>\n",
       "      <td>...</td>\n",
       "      <td>33.0</td>\n",
       "      <td>6.7</td>\n",
       "      <td>NaN</td>\n",
       "      <td>NaN</td>\n",
       "      <td>lived</td>\n",
       "      <td>no</td>\n",
       "      <td>0</td>\n",
       "      <td>0</td>\n",
       "      <td>0</td>\n",
       "      <td>yes</td>\n",
       "    </tr>\n",
       "    <tr>\n",
       "      <th>3</th>\n",
       "      <td>yes</td>\n",
       "      <td>young</td>\n",
       "      <td>5290409</td>\n",
       "      <td>39.1</td>\n",
       "      <td>164.0</td>\n",
       "      <td>84.0</td>\n",
       "      <td>cold</td>\n",
       "      <td>normal</td>\n",
       "      <td>dark_cyanotic</td>\n",
       "      <td>more_3_sec</td>\n",
       "      <td>...</td>\n",
       "      <td>48.0</td>\n",
       "      <td>7.2</td>\n",
       "      <td>serosanguious</td>\n",
       "      <td>5.3</td>\n",
       "      <td>died</td>\n",
       "      <td>yes</td>\n",
       "      <td>2208</td>\n",
       "      <td>0</td>\n",
       "      <td>0</td>\n",
       "      <td>yes</td>\n",
       "    </tr>\n",
       "    <tr>\n",
       "      <th>4</th>\n",
       "      <td>no</td>\n",
       "      <td>adult</td>\n",
       "      <td>530255</td>\n",
       "      <td>37.3</td>\n",
       "      <td>104.0</td>\n",
       "      <td>35.0</td>\n",
       "      <td>NaN</td>\n",
       "      <td>NaN</td>\n",
       "      <td>dark_cyanotic</td>\n",
       "      <td>more_3_sec</td>\n",
       "      <td>...</td>\n",
       "      <td>74.0</td>\n",
       "      <td>7.4</td>\n",
       "      <td>NaN</td>\n",
       "      <td>NaN</td>\n",
       "      <td>died</td>\n",
       "      <td>no</td>\n",
       "      <td>4300</td>\n",
       "      <td>0</td>\n",
       "      <td>0</td>\n",
       "      <td>no</td>\n",
       "    </tr>\n",
       "  </tbody>\n",
       "</table>\n",
       "<p>5 rows × 28 columns</p>\n",
       "</div>"
      ],
      "text/plain": [
       "  surgery    age  hospital_number  rectal_temp  pulse  respiratory_rate  \\\n",
       "0      no  adult           530101         38.5   66.0              28.0   \n",
       "1     yes  adult           534817         39.2   88.0              20.0   \n",
       "2      no  adult           530334         38.3   40.0              24.0   \n",
       "3     yes  young          5290409         39.1  164.0              84.0   \n",
       "4      no  adult           530255         37.3  104.0              35.0   \n",
       "\n",
       "  temp_of_extremities peripheral_pulse mucous_membrane capillary_refill_time  \\\n",
       "0                cool          reduced             NaN            more_3_sec   \n",
       "1                 NaN              NaN   pale_cyanotic            less_3_sec   \n",
       "2              normal           normal       pale_pink            less_3_sec   \n",
       "3                cold           normal   dark_cyanotic            more_3_sec   \n",
       "4                 NaN              NaN   dark_cyanotic            more_3_sec   \n",
       "\n",
       "   ... packed_cell_volume total_protein abdomo_appearance abdomo_protein  \\\n",
       "0  ...               45.0           8.4               NaN            NaN   \n",
       "1  ...               50.0          85.0            cloudy            2.0   \n",
       "2  ...               33.0           6.7               NaN            NaN   \n",
       "3  ...               48.0           7.2     serosanguious            5.3   \n",
       "4  ...               74.0           7.4               NaN            NaN   \n",
       "\n",
       "      outcome  surgical_lesion lesion_1 lesion_2  lesion_3  cp_data  \n",
       "0        died               no    11300        0         0       no  \n",
       "1  euthanized               no     2208        0         0       no  \n",
       "2       lived               no        0        0         0      yes  \n",
       "3        died              yes     2208        0         0      yes  \n",
       "4        died               no     4300        0         0       no  \n",
       "\n",
       "[5 rows x 28 columns]"
      ]
     },
     "execution_count": 426,
     "metadata": {},
     "output_type": "execute_result"
    }
   ],
   "source": [
    "# here we view top 5 rows data.\n",
    "data.head()"
   ]
  },
  {
   "cell_type": "code",
   "execution_count": 427,
   "metadata": {},
   "outputs": [
    {
     "name": "stdout",
     "output_type": "stream",
     "text": [
      "<class 'pandas.core.frame.DataFrame'>\n",
      "RangeIndex: 299 entries, 0 to 298\n",
      "Data columns (total 28 columns):\n",
      " #   Column                 Non-Null Count  Dtype  \n",
      "---  ------                 --------------  -----  \n",
      " 0   surgery                299 non-null    object \n",
      " 1   age                    299 non-null    object \n",
      " 2   hospital_number        299 non-null    int64  \n",
      " 3   rectal_temp            239 non-null    float64\n",
      " 4   pulse                  275 non-null    float64\n",
      " 5   respiratory_rate       241 non-null    float64\n",
      " 6   temp_of_extremities    243 non-null    object \n",
      " 7   peripheral_pulse       230 non-null    object \n",
      " 8   mucous_membrane        252 non-null    object \n",
      " 9   capillary_refill_time  267 non-null    object \n",
      " 10  pain                   244 non-null    object \n",
      " 11  peristalsis            255 non-null    object \n",
      " 12  abdominal_distention   243 non-null    object \n",
      " 13  nasogastric_tube       195 non-null    object \n",
      " 14  nasogastric_reflux     193 non-null    object \n",
      " 15  nasogastric_reflux_ph  53 non-null     float64\n",
      " 16  rectal_exam_feces      197 non-null    object \n",
      " 17  abdomen                181 non-null    object \n",
      " 18  packed_cell_volume     270 non-null    float64\n",
      " 19  total_protein          266 non-null    float64\n",
      " 20  abdomo_appearance      134 non-null    object \n",
      " 21  abdomo_protein         101 non-null    float64\n",
      " 22  outcome                299 non-null    object \n",
      " 23  surgical_lesion        299 non-null    object \n",
      " 24  lesion_1               299 non-null    int64  \n",
      " 25  lesion_2               299 non-null    int64  \n",
      " 26  lesion_3               299 non-null    int64  \n",
      " 27  cp_data                299 non-null    object \n",
      "dtypes: float64(7), int64(4), object(17)\n",
      "memory usage: 65.5+ KB\n"
     ]
    }
   ],
   "source": [
    "#    here we getting data columns information.\n",
    "data.info()"
   ]
  },
  {
   "cell_type": "markdown",
   "metadata": {},
   "source": [
    "## check whether it contains any missing values."
   ]
  },
  {
   "cell_type": "code",
   "execution_count": 428,
   "metadata": {},
   "outputs": [],
   "source": [
    "# 0   surgery                299 non-null    object ===> (Non Numerical Columns)--> Replace the missing data with the Mode\n",
    "# 1   age                    299 non-null    object ===> (Non Numerical Columns)--> Replace the missing data with the Mode\n",
    "# 2   hospital_number        299 non-null    int64  ==> (Numerical -> Discrete )-> Replace the missing data with the Median\n",
    "# 3   rectal_temp            239 non-null    float64 => (Numerical -> Continous )-> Replace the missing data with the Mean\n",
    "# 4   pulse                  275 non-null    float64 => (Numerical -> Continous )-> Replace the missing data with the Mean\n",
    "# 5   respiratory_rate       241 non-null    float64 => (Numerical -> Continous )-> Replace the missing data with the Mean\n",
    "# 6   temp_of_extremities    243 non-null    object ===> (Non Numerical Columns)--> Replace the missing data with the Mode\n",
    "# 7   peripheral_pulse       230 non-null    object ===> (Non Numerical Columns)--> Replace the missing data with the Mode\n",
    "# 8   mucous_membrane        252 non-null    object ===> (Non Numerical Columns)--> Replace the missing data with the Mode\n",
    "# 9   capillary_refill_time  267 non-null    object ===> (Non Numerical Columns)--> Replace the missing data with the Mode\n",
    "# 10  pain                   244 non-null    object ===> (Non Numerical Columns)--> Replace the missing data with the Mode\n",
    "# 11  peristalsis            255 non-null    object ===> (Non Numerical Columns)--> Replace the missing data with the Mode\n",
    "# 12  abdominal_distention   243 non-null    object ===> (Non Numerical Columns)--> Replace the missing data with the Mode\n",
    "# 13  nasogastric_tube       195 non-null    object ===> (Non Numerical Columns)--> Replace the missing data with the Mode\n",
    "# 14  nasogastric_reflux     193 non-null    object ===> (Non Numerical Columns)--> Replace the missing data with the Mode\n",
    "# 15  nasogastric_reflux_ph  53 non-null     float64 => (Numerical-> Discrete ) ->Replace the missing data with the Median\n",
    "# 16  rectal_exam_feces      197 non-null    object ===> (Non Numerical Columns)--> Replace the missing data with the Mode\n",
    "# 17  abdomen                181 non-null    object ===> (Non Numerical Columns)--> Replace the missing data with the Mode\n",
    "# 18  packed_cell_volume     270 non-null    float64 => (Numerical-> Discrete ) ->Replace the missing data with the Median\n",
    "# 19  total_protein          266 non-null    float64 => (Numerical -> Continous )-> Replace the missing data with the Mean\n",
    "# 20  abdomo_appearance      134 non-null    object ===> (Non Numerical Columns)--> Replace the missing data with the Mode\n",
    "# 21  abdomo_protein         101 non-null    float64 => (Numerical -> Discrete )-> Replace the missing data with the Median\n",
    "# 22  outcome                299 non-null    object ===> (Non Numerical Columns)--> Replace the missing data with the Mode\n",
    "# 23  surgical_lesion        299 non-null    object ===> (Non Numerical Columns)--> Replace the missing data with the Mode\n",
    "# 24  lesion_1               299 non-null    int64 ==> (Numerical-> Discrete ) -> Replace the missing data with the Median\n",
    "# 25  lesion_2               299 non-null    int64 ==> (Numerical-> Discrete ) -> Replace the missing data with the Median \n",
    "# 26  lesion_3               299 non-null    int64 ==> (Numerical-> Discrete ) -> Replace the missing data with the Median \n",
    "# 27  cp_data                299 non-null    object => (Numerical-> Discrete ) -> Replace the missing data with the Median "
   ]
  },
  {
   "cell_type": "markdown",
   "metadata": {},
   "source": [
    "# Dealing with missing values"
   ]
  },
  {
   "cell_type": "code",
   "execution_count": 429,
   "metadata": {},
   "outputs": [
    {
     "data": {
      "text/plain": [
       "60"
      ]
     },
     "execution_count": 429,
     "metadata": {},
     "output_type": "execute_result"
    }
   ],
   "source": [
    "# 3 rectal_temp   239 non-null    float64 => (Numerical -> Continous )-> Replace the missing data with the Mean \n",
    "#----------------------------------------------------------------------------------------------------------------\n",
    "data.rectal_temp.isnull().sum()\n",
    "# here we got 60 missing values. "
   ]
  },
  {
   "cell_type": "code",
   "execution_count": 430,
   "metadata": {},
   "outputs": [],
   "source": [
    "# here we will using fillna() for replace nan value into this column mean value.\n",
    "data['rectal_temp'].fillna(data['rectal_temp'].mean(), inplace=True)"
   ]
  },
  {
   "cell_type": "code",
   "execution_count": 431,
   "metadata": {},
   "outputs": [
    {
     "data": {
      "text/plain": [
       "0"
      ]
     },
     "execution_count": 431,
     "metadata": {},
     "output_type": "execute_result"
    }
   ],
   "source": [
    "# here we again check missing values in this columns.\n",
    "data.rectal_temp.isnull().sum()"
   ]
  },
  {
   "cell_type": "code",
   "execution_count": 432,
   "metadata": {},
   "outputs": [
    {
     "data": {
      "text/plain": [
       "24"
      ]
     },
     "execution_count": 432,
     "metadata": {},
     "output_type": "execute_result"
    }
   ],
   "source": [
    "# 4. pulse 275 non-null    float64 => (Numerical -> Continous )-> Replace the missing data with the Mean\n",
    "data.pulse.isnull().sum()"
   ]
  },
  {
   "cell_type": "code",
   "execution_count": 433,
   "metadata": {},
   "outputs": [],
   "source": [
    "# here we will using fillna() for replace nan value into this column mean value.\n",
    "data['pulse'].fillna(data['pulse'].mean(), inplace=True)"
   ]
  },
  {
   "cell_type": "code",
   "execution_count": 434,
   "metadata": {},
   "outputs": [
    {
     "data": {
      "text/plain": [
       "0"
      ]
     },
     "execution_count": 434,
     "metadata": {},
     "output_type": "execute_result"
    }
   ],
   "source": [
    "# here we again check missing values in this columns.\n",
    "data.pulse.isnull().sum()"
   ]
  },
  {
   "cell_type": "code",
   "execution_count": 435,
   "metadata": {},
   "outputs": [
    {
     "data": {
      "text/plain": [
       "58"
      ]
     },
     "execution_count": 435,
     "metadata": {},
     "output_type": "execute_result"
    }
   ],
   "source": [
    "# 5. respiratory_rate 241 non-null    float64 => (Numerical -> Continous )-> Replace the missing data with the Mean\n",
    "data.respiratory_rate.isnull().sum()"
   ]
  },
  {
   "cell_type": "code",
   "execution_count": 436,
   "metadata": {},
   "outputs": [],
   "source": [
    "# here we will using fillna() for replace nan value into this column mean value.\n",
    "data['respiratory_rate'].fillna(data['respiratory_rate'].mean(), inplace=True)"
   ]
  },
  {
   "cell_type": "code",
   "execution_count": 437,
   "metadata": {},
   "outputs": [
    {
     "data": {
      "text/plain": [
       "0"
      ]
     },
     "execution_count": 437,
     "metadata": {},
     "output_type": "execute_result"
    }
   ],
   "source": [
    "# here we again check missing values in this columns.\n",
    "data.respiratory_rate.isnull().sum()"
   ]
  },
  {
   "cell_type": "code",
   "execution_count": 438,
   "metadata": {},
   "outputs": [
    {
     "data": {
      "text/plain": [
       "56"
      ]
     },
     "execution_count": 438,
     "metadata": {},
     "output_type": "execute_result"
    }
   ],
   "source": [
    "# 6. temp_of_extremities 243 non-null  object ===> (Non Numerical Columns)--> Replace the missing data with the Mode\n",
    "data.temp_of_extremities.isnull().sum()"
   ]
  },
  {
   "cell_type": "code",
   "execution_count": 439,
   "metadata": {},
   "outputs": [],
   "source": [
    "# here we will using fillna() for replace nan value into this column mode or high uniqe value value.\n",
    "data['temp_of_extremities'].fillna(\"cool\", inplace=True)"
   ]
  },
  {
   "cell_type": "code",
   "execution_count": 440,
   "metadata": {},
   "outputs": [
    {
     "data": {
      "text/plain": [
       "0"
      ]
     },
     "execution_count": 440,
     "metadata": {},
     "output_type": "execute_result"
    }
   ],
   "source": [
    "# here we again check missing values in this columns.\n",
    "data.temp_of_extremities.isnull().sum()"
   ]
  },
  {
   "cell_type": "code",
   "execution_count": 441,
   "metadata": {},
   "outputs": [
    {
     "data": {
      "text/plain": [
       "69"
      ]
     },
     "execution_count": 441,
     "metadata": {},
     "output_type": "execute_result"
    }
   ],
   "source": [
    "# 7. peripheral_pulse 230 non-null  object ===> (Non Numerical Columns)--> Replace the missing data with the Mode\n",
    "data.peripheral_pulse.isnull().sum()"
   ]
  },
  {
   "cell_type": "code",
   "execution_count": 442,
   "metadata": {},
   "outputs": [],
   "source": [
    "# here we will using fillna() for replace nan value into this column mode or high uniqe value value.\n",
    "data['peripheral_pulse'].fillna(\"normal\", inplace=True)"
   ]
  },
  {
   "cell_type": "code",
   "execution_count": 443,
   "metadata": {},
   "outputs": [
    {
     "data": {
      "text/plain": [
       "0"
      ]
     },
     "execution_count": 443,
     "metadata": {},
     "output_type": "execute_result"
    }
   ],
   "source": [
    "# here we again check missing values in this columns.\n",
    "data.peripheral_pulse.isnull().sum()"
   ]
  },
  {
   "cell_type": "code",
   "execution_count": 444,
   "metadata": {},
   "outputs": [
    {
     "data": {
      "text/plain": [
       "47"
      ]
     },
     "execution_count": 444,
     "metadata": {},
     "output_type": "execute_result"
    }
   ],
   "source": [
    "# 8. mucous_membrane 252 non-null  object ===> (Non Numerical Columns)--> Replace the missing data with the Mode\n",
    "data.mucous_membrane.isnull().sum()"
   ]
  },
  {
   "cell_type": "code",
   "execution_count": 445,
   "metadata": {},
   "outputs": [],
   "source": [
    "# here we will using fillna() for replace nan value into this column mode or high uniqe value value.\n",
    "data['mucous_membrane'].fillna(\"normal_pink\",inplace=True)"
   ]
  },
  {
   "cell_type": "code",
   "execution_count": 446,
   "metadata": {},
   "outputs": [
    {
     "data": {
      "text/plain": [
       "0"
      ]
     },
     "execution_count": 446,
     "metadata": {},
     "output_type": "execute_result"
    }
   ],
   "source": [
    "# here we again check missing values in this columns.\n",
    "data.mucous_membrane.isnull().sum()"
   ]
  },
  {
   "cell_type": "code",
   "execution_count": 447,
   "metadata": {},
   "outputs": [
    {
     "data": {
      "text/plain": [
       "32"
      ]
     },
     "execution_count": 447,
     "metadata": {},
     "output_type": "execute_result"
    }
   ],
   "source": [
    "# 9. capillary_refill_time  267 non-null    object ===> (Non Numerical Columns)--> Replace the missing data with the Mode\n",
    "data.capillary_refill_time.isnull().sum()"
   ]
  },
  {
   "cell_type": "code",
   "execution_count": 448,
   "metadata": {},
   "outputs": [],
   "source": [
    "# here we will using fillna() for replace nan value into this column mode or high uniqe value value.\n",
    "data['capillary_refill_time'].fillna(\"less_3_sec\",inplace=True)"
   ]
  },
  {
   "cell_type": "code",
   "execution_count": 449,
   "metadata": {},
   "outputs": [
    {
     "data": {
      "text/plain": [
       "0"
      ]
     },
     "execution_count": 449,
     "metadata": {},
     "output_type": "execute_result"
    }
   ],
   "source": [
    "# here we again check missing values in this columns.\n",
    "data.capillary_refill_time.isnull().sum()"
   ]
  },
  {
   "cell_type": "code",
   "execution_count": 450,
   "metadata": {},
   "outputs": [
    {
     "data": {
      "text/plain": [
       "55"
      ]
     },
     "execution_count": 450,
     "metadata": {},
     "output_type": "execute_result"
    }
   ],
   "source": [
    "# 10. pain  244 non-null    object ===> (Non Numerical Columns)--> Replace the missing data with the Mode\n",
    "data.pain.isnull().sum()"
   ]
  },
  {
   "cell_type": "code",
   "execution_count": 451,
   "metadata": {},
   "outputs": [],
   "source": [
    "# here we will using fillna() for replace nan value into this column mode or high uniqe value value.\n",
    "data['pain'].fillna(\"mild_pain\",inplace=True)"
   ]
  },
  {
   "cell_type": "code",
   "execution_count": 452,
   "metadata": {},
   "outputs": [
    {
     "data": {
      "text/plain": [
       "0"
      ]
     },
     "execution_count": 452,
     "metadata": {},
     "output_type": "execute_result"
    }
   ],
   "source": [
    "# here we again check missing values in this columns.\n",
    "data.pain.isnull().sum()"
   ]
  },
  {
   "cell_type": "code",
   "execution_count": 453,
   "metadata": {},
   "outputs": [
    {
     "data": {
      "text/plain": [
       "44"
      ]
     },
     "execution_count": 453,
     "metadata": {},
     "output_type": "execute_result"
    }
   ],
   "source": [
    "# 11. peristalsis 255 non-null    object ===> (Non Numerical Columns)--> Replace the missing data with the Mode\n",
    "data.peristalsis.isnull().sum()"
   ]
  },
  {
   "cell_type": "code",
   "execution_count": 454,
   "metadata": {},
   "outputs": [],
   "source": [
    "# here we will using fillna() for replace nan value into this column mode or high uniqe value value.\n",
    "data['peristalsis'].fillna(\"hypomotile\", inplace=True)"
   ]
  },
  {
   "cell_type": "code",
   "execution_count": 455,
   "metadata": {},
   "outputs": [
    {
     "data": {
      "text/plain": [
       "0"
      ]
     },
     "execution_count": 455,
     "metadata": {},
     "output_type": "execute_result"
    }
   ],
   "source": [
    "# here we again check missing values in this columns.\n",
    "data.peristalsis.isnull().sum()"
   ]
  },
  {
   "cell_type": "code",
   "execution_count": 456,
   "metadata": {},
   "outputs": [
    {
     "data": {
      "text/plain": [
       "56"
      ]
     },
     "execution_count": 456,
     "metadata": {},
     "output_type": "execute_result"
    }
   ],
   "source": [
    "# 12. abdominal_distention  243 non-null  object ===> (Non Numerical Columns)--> Replace the missing data with the Mode\n",
    "data.abdominal_distention.isnull().sum()"
   ]
  },
  {
   "cell_type": "code",
   "execution_count": 457,
   "metadata": {},
   "outputs": [],
   "source": [
    "# here we will using fillna() for replace nan value into this column mode or high uniqe value value.\n",
    "data['abdominal_distention'].fillna(\"none\", inplace=True)"
   ]
  },
  {
   "cell_type": "code",
   "execution_count": 458,
   "metadata": {},
   "outputs": [
    {
     "data": {
      "text/plain": [
       "0"
      ]
     },
     "execution_count": 458,
     "metadata": {},
     "output_type": "execute_result"
    }
   ],
   "source": [
    "# here we again check missing values in this columns.\n",
    "data.abdominal_distention.isnull().sum()"
   ]
  },
  {
   "cell_type": "code",
   "execution_count": 459,
   "metadata": {
    "scrolled": true
   },
   "outputs": [
    {
     "data": {
      "text/plain": [
       "slight         101\n",
       "none            71\n",
       "significant     23\n",
       "Name: nasogastric_tube, dtype: int64"
      ]
     },
     "execution_count": 459,
     "metadata": {},
     "output_type": "execute_result"
    }
   ],
   "source": [
    "# 13.nasogastric_tube 195 non-null object ===> (Non Numerical Columns)--> Replace the missing data with the Mode\n",
    "data.nasogastric_tube.value_counts()"
   ]
  },
  {
   "cell_type": "code",
   "execution_count": 460,
   "metadata": {},
   "outputs": [],
   "source": [
    "# here we will using fillna() for replace nan value into this column mode or high uniqe value value.\n",
    "data['nasogastric_tube'].fillna(\"slight\", inplace = True)"
   ]
  },
  {
   "cell_type": "code",
   "execution_count": 461,
   "metadata": {},
   "outputs": [
    {
     "data": {
      "text/plain": [
       "0"
      ]
     },
     "execution_count": 461,
     "metadata": {},
     "output_type": "execute_result"
    }
   ],
   "source": [
    "# here we again check missing values in this columns.\n",
    "data.nasogastric_tube.isnull().sum()"
   ]
  },
  {
   "cell_type": "code",
   "execution_count": 462,
   "metadata": {},
   "outputs": [
    {
     "data": {
      "text/plain": [
       "106"
      ]
     },
     "execution_count": 462,
     "metadata": {},
     "output_type": "execute_result"
    }
   ],
   "source": [
    "# 14.nasogastric_reflux  193 non-null   object ===> (Non Numerical Columns)--> Replace the missing data with the Mode\n",
    "data.nasogastric_reflux.isnull().sum()"
   ]
  },
  {
   "cell_type": "code",
   "execution_count": 463,
   "metadata": {},
   "outputs": [],
   "source": [
    "# here we will using fillna() for replace nan value into this column mode or high uniqe value value.\n",
    "data['nasogastric_reflux'].fillna('none',inplace=True)"
   ]
  },
  {
   "cell_type": "code",
   "execution_count": 464,
   "metadata": {},
   "outputs": [
    {
     "data": {
      "text/plain": [
       "0"
      ]
     },
     "execution_count": 464,
     "metadata": {},
     "output_type": "execute_result"
    }
   ],
   "source": [
    "# here we again check missing values in this columns.\n",
    "data.nasogastric_reflux.isnull().sum()"
   ]
  },
  {
   "cell_type": "code",
   "execution_count": 465,
   "metadata": {},
   "outputs": [
    {
     "data": {
      "text/plain": [
       "246"
      ]
     },
     "execution_count": 465,
     "metadata": {},
     "output_type": "execute_result"
    }
   ],
   "source": [
    "# 15  nasogastric_reflux_ph  53 non-null     float64 => (Numerical-> Discrete ) ->Replace the missing data with the Median\n",
    "data.nasogastric_reflux_ph.isnull().sum()"
   ]
  },
  {
   "cell_type": "code",
   "execution_count": 466,
   "metadata": {},
   "outputs": [],
   "source": [
    "# here we will using fillna() for replace nan value into this column median or high uniqe value value.\n",
    "data['nasogastric_reflux_ph'].fillna(data['nasogastric_reflux_ph'].median(), inplace=True)"
   ]
  },
  {
   "cell_type": "code",
   "execution_count": 467,
   "metadata": {},
   "outputs": [
    {
     "data": {
      "text/plain": [
       "0"
      ]
     },
     "execution_count": 467,
     "metadata": {},
     "output_type": "execute_result"
    }
   ],
   "source": [
    "# here we again check missing values in this columns.\n",
    "data.nasogastric_reflux_ph.isnull().sum()"
   ]
  },
  {
   "cell_type": "code",
   "execution_count": 468,
   "metadata": {},
   "outputs": [
    {
     "data": {
      "text/plain": [
       "102"
      ]
     },
     "execution_count": 468,
     "metadata": {},
     "output_type": "execute_result"
    }
   ],
   "source": [
    "# 16. rectal_exam_feces 197 non-null    object ===> (Non Numerical Columns)--> Replace the missing data with the Mode\n",
    "data['rectal_exam_feces'].isnull().sum()"
   ]
  },
  {
   "cell_type": "code",
   "execution_count": 469,
   "metadata": {},
   "outputs": [],
   "source": [
    "# here we will using fillna() for replace nan value into this column mode or high uniqe value value.\n",
    "data['rectal_exam_feces'].fillna(\"absent\", inplace=True)"
   ]
  },
  {
   "cell_type": "code",
   "execution_count": 470,
   "metadata": {},
   "outputs": [
    {
     "data": {
      "text/plain": [
       "0"
      ]
     },
     "execution_count": 470,
     "metadata": {},
     "output_type": "execute_result"
    }
   ],
   "source": [
    "# here we again check missing values in this columns.\n",
    "data['rectal_exam_feces'].isnull().sum()"
   ]
  },
  {
   "cell_type": "code",
   "execution_count": 471,
   "metadata": {},
   "outputs": [
    {
     "data": {
      "text/plain": [
       "118"
      ]
     },
     "execution_count": 471,
     "metadata": {},
     "output_type": "execute_result"
    }
   ],
   "source": [
    "# 17. abdomen 181 non-null    object ===> (Non Numerical Columns)--> Replace the missing data with the Mode\n",
    "data['abdomen'].isnull().sum()"
   ]
  },
  {
   "cell_type": "code",
   "execution_count": 472,
   "metadata": {},
   "outputs": [],
   "source": [
    "# here we will using fillna() for replace nan value into this column mode or high uniqe value value.\n",
    "data['abdomen'].fillna(\"distend_large\", inplace=True)"
   ]
  },
  {
   "cell_type": "code",
   "execution_count": 473,
   "metadata": {},
   "outputs": [
    {
     "data": {
      "text/plain": [
       "0"
      ]
     },
     "execution_count": 473,
     "metadata": {},
     "output_type": "execute_result"
    }
   ],
   "source": [
    "# here we again check missing values in this columns.\n",
    "data['abdomen'].isnull().sum()"
   ]
  },
  {
   "cell_type": "code",
   "execution_count": 474,
   "metadata": {},
   "outputs": [
    {
     "data": {
      "text/plain": [
       "29"
      ]
     },
     "execution_count": 474,
     "metadata": {},
     "output_type": "execute_result"
    }
   ],
   "source": [
    "# 18. packed_cell_volume 270 non-null  float64 => (Numerical-> Discrete ) ->Replace the missing data with the Median\n",
    "\n",
    "data['packed_cell_volume'].isnull().sum()"
   ]
  },
  {
   "cell_type": "code",
   "execution_count": 475,
   "metadata": {},
   "outputs": [],
   "source": [
    "# here we will using fillna() for replace nan value into this column median or high uniqe value value.\n",
    "data['packed_cell_volume'].fillna(data['packed_cell_volume'].median(), inplace=True)"
   ]
  },
  {
   "cell_type": "code",
   "execution_count": 476,
   "metadata": {},
   "outputs": [
    {
     "data": {
      "text/plain": [
       "0"
      ]
     },
     "execution_count": 476,
     "metadata": {},
     "output_type": "execute_result"
    }
   ],
   "source": [
    "# here we again check missing values in this columns.\n",
    "data['packed_cell_volume'].isnull().sum()"
   ]
  },
  {
   "cell_type": "code",
   "execution_count": 477,
   "metadata": {},
   "outputs": [
    {
     "data": {
      "text/plain": [
       "33"
      ]
     },
     "execution_count": 477,
     "metadata": {},
     "output_type": "execute_result"
    }
   ],
   "source": [
    "# 19.total_protein 266 non-null    float64 => (Numerical -> Continous )-> Replace the missing data with the Mean\n",
    "data.total_protein.isnull().sum()"
   ]
  },
  {
   "cell_type": "code",
   "execution_count": 478,
   "metadata": {},
   "outputs": [],
   "source": [
    "# here we will using fillna() for replace nan value into this column median or high uniqe value value.\n",
    "data['total_protein'].fillna(data['total_protein'].mean(), inplace=True)"
   ]
  },
  {
   "cell_type": "code",
   "execution_count": 479,
   "metadata": {},
   "outputs": [
    {
     "data": {
      "text/plain": [
       "0"
      ]
     },
     "execution_count": 479,
     "metadata": {},
     "output_type": "execute_result"
    }
   ],
   "source": [
    "# here we again check missing values in this columns.\n",
    "data.total_protein.isnull().sum()"
   ]
  },
  {
   "cell_type": "code",
   "execution_count": 480,
   "metadata": {},
   "outputs": [
    {
     "data": {
      "text/plain": [
       "165"
      ]
     },
     "execution_count": 480,
     "metadata": {},
     "output_type": "execute_result"
    }
   ],
   "source": [
    "# 20. abdomo_appearance  134 non-null    object ===> (Non Numerical Columns)--> Replace the missing data with the Mode\n",
    "data['abdomo_appearance'].isnull().sum()"
   ]
  },
  {
   "cell_type": "code",
   "execution_count": 481,
   "metadata": {},
   "outputs": [],
   "source": [
    "# here we will using fillna() for replace nan value into this column mode or high uniqe value value.\n",
    "data['abdomo_appearance'].fillna(\"cloudy\",inplace=True)"
   ]
  },
  {
   "cell_type": "code",
   "execution_count": 482,
   "metadata": {},
   "outputs": [
    {
     "data": {
      "text/plain": [
       "0"
      ]
     },
     "execution_count": 482,
     "metadata": {},
     "output_type": "execute_result"
    }
   ],
   "source": [
    "# here we again check missing values in this columns.\n",
    "data['abdomo_appearance'].isnull().sum()"
   ]
  },
  {
   "cell_type": "code",
   "execution_count": 483,
   "metadata": {},
   "outputs": [
    {
     "data": {
      "text/plain": [
       "198"
      ]
     },
     "execution_count": 483,
     "metadata": {},
     "output_type": "execute_result"
    }
   ],
   "source": [
    "# 21. abdomo_protein 101 non-null  float64 => (Numerical -> Continous )-> Replace the missing data with the Mean\n",
    "data['abdomo_protein'].isnull().sum()"
   ]
  },
  {
   "cell_type": "code",
   "execution_count": 484,
   "metadata": {
    "scrolled": true
   },
   "outputs": [],
   "source": [
    "# here we will using fillna() for replace nan value into this column Median or high uniqe value value.\n",
    "data['abdomo_protein'].fillna(data[\"abdomo_protein\"].median(), inplace=True)"
   ]
  },
  {
   "cell_type": "code",
   "execution_count": 485,
   "metadata": {},
   "outputs": [
    {
     "data": {
      "text/plain": [
       "0"
      ]
     },
     "execution_count": 485,
     "metadata": {},
     "output_type": "execute_result"
    }
   ],
   "source": [
    "# here we again check missing values in this columns.\n",
    "data['abdomo_protein'].isnull().sum()"
   ]
  },
  {
   "cell_type": "markdown",
   "metadata": {},
   "source": [
    "# Deal with outlieres"
   ]
  },
  {
   "cell_type": "code",
   "execution_count": 486,
   "metadata": {},
   "outputs": [],
   "source": [
    "# 3   rectal_temp            239 non-null    float64 => (Numerical -> Continous )-> Replace the missing data with the Mean\n",
    "# 4   pulse                  275 non-null    float64 => (Numerical -> Continous )-> Replace the missing data with the Mean\n",
    "# 5   respiratory_rate       241 non-null    float64 => (Numerical -> Continous )-> Replace the missing data with the Mean\n",
    "# 19  total_protein          266 non-null    float64 => (Numerical -> Continous )-> Replace the missing data with the Mean\n"
   ]
  },
  {
   "cell_type": "code",
   "execution_count": 487,
   "metadata": {
    "scrolled": false
   },
   "outputs": [
    {
     "name": "stderr",
     "output_type": "stream",
     "text": [
      "C:\\Users\\ANOOP\\anaconda3\\lib\\site-packages\\seaborn\\_decorators.py:43: FutureWarning: Pass the following variable as a keyword arg: x. From version 0.12, the only valid positional argument will be `data`, and passing other arguments without an explicit keyword will result in an error or misinterpretation.\n",
      "  FutureWarning\n"
     ]
    },
    {
     "data": {
      "text/plain": [
       "<matplotlib.axes._subplots.AxesSubplot at 0x1c1760957c8>"
      ]
     },
     "execution_count": 487,
     "metadata": {},
     "output_type": "execute_result"
    },
    {
     "data": {
      "image/png": "[encoded data removed]",
      "text/plain": [
       "<Figure size 432x288 with 1 Axes>"
      ]
     },
     "metadata": {
      "needs_background": "light"
     },
     "output_type": "display_data"
    }
   ],
   "source": [
    "# here we checking outlier visually of 'rectal_temp' column.\n",
    "sns.boxplot(data.rectal_temp)"
   ]
  },
  {
   "cell_type": "code",
   "execution_count": 488,
   "metadata": {},
   "outputs": [],
   "source": [
    "# If we got outlire error then we will using customize function that show below.\n",
    "# The function name is outlinefree.\n",
    "#-------------------------------------------------------------------------------------------\n",
    "def outlinefree(dataCol):\n",
    "    # sorting column\n",
    "    sorted(dataCol)\n",
    "    \n",
    "    # getting percentile 25 and 27 that will help us for getting IQR (interquartile range)\n",
    "    Q1,Q3 = np.percentile(dataCol,[25,75])\n",
    "    \n",
    "    # getting IQR (interquartile range)\n",
    "    IQR = Q3-Q1\n",
    "    \n",
    "    # getting Lower range error\n",
    "    LowerRange = Q1-(1.5 * IQR)\n",
    "    \n",
    "    # getting upper range error\n",
    "    UpperRange = Q3+(1.5 * IQR)\n",
    "    \n",
    "    # return Lower range and upper range.\n",
    "    return LowerRange,UpperRange"
   ]
  },
  {
   "cell_type": "code",
   "execution_count": 489,
   "metadata": {},
   "outputs": [
    {
     "name": "stdout",
     "output_type": "stream",
     "text": [
      "37.0 39.400000000000006\n"
     ]
    }
   ],
   "source": [
    "# here we getting upper range and lower range  both values\n",
    "Lowran,Upperran = outlinefree(data.rectal_temp)\n",
    "print(Lowran,Upperran)"
   ]
  },
  {
   "cell_type": "code",
   "execution_count": 490,
   "metadata": {},
   "outputs": [
    {
     "data": {
      "text/html": [
       "<div>\n",
       "<style scoped>\n",
       "    .dataframe tbody tr th:only-of-type {\n",
       "        vertical-align: middle;\n",
       "    }\n",
       "\n",
       "    .dataframe tbody tr th {\n",
       "        vertical-align: top;\n",
       "    }\n",
       "\n",
       "    .dataframe thead th {\n",
       "        text-align: right;\n",
       "    }\n",
       "</style>\n",
       "<table border=\"1\" class=\"dataframe\">\n",
       "  <thead>\n",
       "    <tr style=\"text-align: right;\">\n",
       "      <th></th>\n",
       "      <th>surgery</th>\n",
       "      <th>age</th>\n",
       "      <th>hospital_number</th>\n",
       "      <th>rectal_temp</th>\n",
       "      <th>pulse</th>\n",
       "      <th>respiratory_rate</th>\n",
       "      <th>temp_of_extremities</th>\n",
       "      <th>peripheral_pulse</th>\n",
       "      <th>mucous_membrane</th>\n",
       "      <th>capillary_refill_time</th>\n",
       "      <th>...</th>\n",
       "      <th>packed_cell_volume</th>\n",
       "      <th>total_protein</th>\n",
       "      <th>abdomo_appearance</th>\n",
       "      <th>abdomo_protein</th>\n",
       "      <th>outcome</th>\n",
       "      <th>surgical_lesion</th>\n",
       "      <th>lesion_1</th>\n",
       "      <th>lesion_2</th>\n",
       "      <th>lesion_3</th>\n",
       "      <th>cp_data</th>\n",
       "    </tr>\n",
       "  </thead>\n",
       "  <tbody>\n",
       "    <tr>\n",
       "      <th>20</th>\n",
       "      <td>yes</td>\n",
       "      <td>adult</td>\n",
       "      <td>530157</td>\n",
       "      <td>39.9</td>\n",
       "      <td>72.0</td>\n",
       "      <td>60.000000</td>\n",
       "      <td>normal</td>\n",
       "      <td>normal</td>\n",
       "      <td>bright_red</td>\n",
       "      <td>more_3_sec</td>\n",
       "      <td>...</td>\n",
       "      <td>46.0</td>\n",
       "      <td>6.100000</td>\n",
       "      <td>cloudy</td>\n",
       "      <td>2.3</td>\n",
       "      <td>lived</td>\n",
       "      <td>yes</td>\n",
       "      <td>2111</td>\n",
       "      <td>0</td>\n",
       "      <td>0</td>\n",
       "      <td>no</td>\n",
       "    </tr>\n",
       "    <tr>\n",
       "      <th>44</th>\n",
       "      <td>yes</td>\n",
       "      <td>adult</td>\n",
       "      <td>535407</td>\n",
       "      <td>35.4</td>\n",
       "      <td>140.0</td>\n",
       "      <td>24.000000</td>\n",
       "      <td>cool</td>\n",
       "      <td>reduced</td>\n",
       "      <td>pale_cyanotic</td>\n",
       "      <td>more_3_sec</td>\n",
       "      <td>...</td>\n",
       "      <td>57.0</td>\n",
       "      <td>69.000000</td>\n",
       "      <td>serosanguious</td>\n",
       "      <td>2.0</td>\n",
       "      <td>euthanized</td>\n",
       "      <td>yes</td>\n",
       "      <td>3205</td>\n",
       "      <td>0</td>\n",
       "      <td>0</td>\n",
       "      <td>no</td>\n",
       "    </tr>\n",
       "    <tr>\n",
       "      <th>54</th>\n",
       "      <td>no</td>\n",
       "      <td>adult</td>\n",
       "      <td>529461</td>\n",
       "      <td>40.3</td>\n",
       "      <td>114.0</td>\n",
       "      <td>36.000000</td>\n",
       "      <td>cool</td>\n",
       "      <td>reduced</td>\n",
       "      <td>normal_pink</td>\n",
       "      <td>more_3_sec</td>\n",
       "      <td>...</td>\n",
       "      <td>57.0</td>\n",
       "      <td>8.100000</td>\n",
       "      <td>serosanguious</td>\n",
       "      <td>4.5</td>\n",
       "      <td>euthanized</td>\n",
       "      <td>yes</td>\n",
       "      <td>7400</td>\n",
       "      <td>0</td>\n",
       "      <td>0</td>\n",
       "      <td>yes</td>\n",
       "    </tr>\n",
       "    <tr>\n",
       "      <th>75</th>\n",
       "      <td>yes</td>\n",
       "      <td>young</td>\n",
       "      <td>534092</td>\n",
       "      <td>39.7</td>\n",
       "      <td>100.0</td>\n",
       "      <td>30.460581</td>\n",
       "      <td>cool</td>\n",
       "      <td>reduced</td>\n",
       "      <td>bright_red</td>\n",
       "      <td>more_3_sec</td>\n",
       "      <td>...</td>\n",
       "      <td>48.0</td>\n",
       "      <td>57.000000</td>\n",
       "      <td>cloudy</td>\n",
       "      <td>2.0</td>\n",
       "      <td>euthanized</td>\n",
       "      <td>yes</td>\n",
       "      <td>1400</td>\n",
       "      <td>0</td>\n",
       "      <td>0</td>\n",
       "      <td>no</td>\n",
       "    </tr>\n",
       "    <tr>\n",
       "      <th>80</th>\n",
       "      <td>yes</td>\n",
       "      <td>adult</td>\n",
       "      <td>527518</td>\n",
       "      <td>36.4</td>\n",
       "      <td>98.0</td>\n",
       "      <td>35.000000</td>\n",
       "      <td>cool</td>\n",
       "      <td>reduced</td>\n",
       "      <td>pale_cyanotic</td>\n",
       "      <td>less_3_sec</td>\n",
       "      <td>...</td>\n",
       "      <td>47.0</td>\n",
       "      <td>6.400000</td>\n",
       "      <td>serosanguious</td>\n",
       "      <td>3.6</td>\n",
       "      <td>died</td>\n",
       "      <td>yes</td>\n",
       "      <td>2205</td>\n",
       "      <td>0</td>\n",
       "      <td>0</td>\n",
       "      <td>yes</td>\n",
       "    </tr>\n",
       "    <tr>\n",
       "      <th>91</th>\n",
       "      <td>no</td>\n",
       "      <td>adult</td>\n",
       "      <td>529461</td>\n",
       "      <td>40.3</td>\n",
       "      <td>114.0</td>\n",
       "      <td>36.000000</td>\n",
       "      <td>cool</td>\n",
       "      <td>reduced</td>\n",
       "      <td>normal_pink</td>\n",
       "      <td>more_3_sec</td>\n",
       "      <td>...</td>\n",
       "      <td>57.0</td>\n",
       "      <td>8.100000</td>\n",
       "      <td>serosanguious</td>\n",
       "      <td>4.5</td>\n",
       "      <td>died</td>\n",
       "      <td>yes</td>\n",
       "      <td>3205</td>\n",
       "      <td>0</td>\n",
       "      <td>0</td>\n",
       "      <td>yes</td>\n",
       "    </tr>\n",
       "    <tr>\n",
       "      <th>99</th>\n",
       "      <td>no</td>\n",
       "      <td>adult</td>\n",
       "      <td>530002</td>\n",
       "      <td>39.6</td>\n",
       "      <td>108.0</td>\n",
       "      <td>51.000000</td>\n",
       "      <td>cool</td>\n",
       "      <td>reduced</td>\n",
       "      <td>dark_cyanotic</td>\n",
       "      <td>more_3_sec</td>\n",
       "      <td>...</td>\n",
       "      <td>59.0</td>\n",
       "      <td>8.000000</td>\n",
       "      <td>cloudy</td>\n",
       "      <td>2.6</td>\n",
       "      <td>lived</td>\n",
       "      <td>no</td>\n",
       "      <td>4300</td>\n",
       "      <td>0</td>\n",
       "      <td>0</td>\n",
       "      <td>yes</td>\n",
       "    </tr>\n",
       "    <tr>\n",
       "      <th>113</th>\n",
       "      <td>yes</td>\n",
       "      <td>adult</td>\n",
       "      <td>527933</td>\n",
       "      <td>36.8</td>\n",
       "      <td>60.0</td>\n",
       "      <td>28.000000</td>\n",
       "      <td>cool</td>\n",
       "      <td>normal</td>\n",
       "      <td>normal_pink</td>\n",
       "      <td>less_3_sec</td>\n",
       "      <td>...</td>\n",
       "      <td>45.0</td>\n",
       "      <td>24.274436</td>\n",
       "      <td>cloudy</td>\n",
       "      <td>10.0</td>\n",
       "      <td>died</td>\n",
       "      <td>yes</td>\n",
       "      <td>3205</td>\n",
       "      <td>0</td>\n",
       "      <td>0</td>\n",
       "      <td>yes</td>\n",
       "    </tr>\n",
       "    <tr>\n",
       "      <th>117</th>\n",
       "      <td>no</td>\n",
       "      <td>adult</td>\n",
       "      <td>5290482</td>\n",
       "      <td>39.5</td>\n",
       "      <td>72.0</td>\n",
       "      <td>30.460581</td>\n",
       "      <td>cool</td>\n",
       "      <td>reduced</td>\n",
       "      <td>pale_cyanotic</td>\n",
       "      <td>more_3_sec</td>\n",
       "      <td>...</td>\n",
       "      <td>45.0</td>\n",
       "      <td>6.700000</td>\n",
       "      <td>clear</td>\n",
       "      <td>2.3</td>\n",
       "      <td>euthanized</td>\n",
       "      <td>yes</td>\n",
       "      <td>4205</td>\n",
       "      <td>0</td>\n",
       "      <td>0</td>\n",
       "      <td>no</td>\n",
       "    </tr>\n",
       "    <tr>\n",
       "      <th>118</th>\n",
       "      <td>yes</td>\n",
       "      <td>adult</td>\n",
       "      <td>533983</td>\n",
       "      <td>36.5</td>\n",
       "      <td>78.0</td>\n",
       "      <td>30.000000</td>\n",
       "      <td>normal</td>\n",
       "      <td>normal</td>\n",
       "      <td>normal_pink</td>\n",
       "      <td>less_3_sec</td>\n",
       "      <td>...</td>\n",
       "      <td>34.0</td>\n",
       "      <td>75.000000</td>\n",
       "      <td>cloudy</td>\n",
       "      <td>1.0</td>\n",
       "      <td>lived</td>\n",
       "      <td>yes</td>\n",
       "      <td>3112</td>\n",
       "      <td>6112</td>\n",
       "      <td>0</td>\n",
       "      <td>no</td>\n",
       "    </tr>\n",
       "    <tr>\n",
       "      <th>140</th>\n",
       "      <td>no</td>\n",
       "      <td>adult</td>\n",
       "      <td>522979</td>\n",
       "      <td>36.0</td>\n",
       "      <td>42.0</td>\n",
       "      <td>30.000000</td>\n",
       "      <td>cool</td>\n",
       "      <td>normal</td>\n",
       "      <td>bright_red</td>\n",
       "      <td>less_3_sec</td>\n",
       "      <td>...</td>\n",
       "      <td>64.0</td>\n",
       "      <td>6.800000</td>\n",
       "      <td>cloudy</td>\n",
       "      <td>2.3</td>\n",
       "      <td>died</td>\n",
       "      <td>no</td>\n",
       "      <td>1400</td>\n",
       "      <td>0</td>\n",
       "      <td>0</td>\n",
       "      <td>no</td>\n",
       "    </tr>\n",
       "    <tr>\n",
       "      <th>161</th>\n",
       "      <td>no</td>\n",
       "      <td>adult</td>\n",
       "      <td>535176</td>\n",
       "      <td>39.5</td>\n",
       "      <td>60.0</td>\n",
       "      <td>10.000000</td>\n",
       "      <td>cool</td>\n",
       "      <td>normal</td>\n",
       "      <td>normal_pink</td>\n",
       "      <td>more_3_sec</td>\n",
       "      <td>...</td>\n",
       "      <td>38.0</td>\n",
       "      <td>56.000000</td>\n",
       "      <td>clear</td>\n",
       "      <td>2.3</td>\n",
       "      <td>lived</td>\n",
       "      <td>no</td>\n",
       "      <td>0</td>\n",
       "      <td>0</td>\n",
       "      <td>0</td>\n",
       "      <td>no</td>\n",
       "    </tr>\n",
       "    <tr>\n",
       "      <th>230</th>\n",
       "      <td>no</td>\n",
       "      <td>adult</td>\n",
       "      <td>530028</td>\n",
       "      <td>39.5</td>\n",
       "      <td>92.0</td>\n",
       "      <td>28.000000</td>\n",
       "      <td>cool</td>\n",
       "      <td>reduced</td>\n",
       "      <td>dark_cyanotic</td>\n",
       "      <td>less_3_sec</td>\n",
       "      <td>...</td>\n",
       "      <td>72.0</td>\n",
       "      <td>6.400000</td>\n",
       "      <td>cloudy</td>\n",
       "      <td>3.6</td>\n",
       "      <td>died</td>\n",
       "      <td>no</td>\n",
       "      <td>3300</td>\n",
       "      <td>0</td>\n",
       "      <td>0</td>\n",
       "      <td>no</td>\n",
       "    </tr>\n",
       "    <tr>\n",
       "      <th>237</th>\n",
       "      <td>no</td>\n",
       "      <td>adult</td>\n",
       "      <td>528702</td>\n",
       "      <td>36.1</td>\n",
       "      <td>88.0</td>\n",
       "      <td>30.460581</td>\n",
       "      <td>cool</td>\n",
       "      <td>reduced</td>\n",
       "      <td>pale_pink</td>\n",
       "      <td>less_3_sec</td>\n",
       "      <td>...</td>\n",
       "      <td>45.0</td>\n",
       "      <td>7.000000</td>\n",
       "      <td>serosanguious</td>\n",
       "      <td>4.8</td>\n",
       "      <td>euthanized</td>\n",
       "      <td>yes</td>\n",
       "      <td>2209</td>\n",
       "      <td>0</td>\n",
       "      <td>0</td>\n",
       "      <td>yes</td>\n",
       "    </tr>\n",
       "    <tr>\n",
       "      <th>250</th>\n",
       "      <td>no</td>\n",
       "      <td>adult</td>\n",
       "      <td>527940</td>\n",
       "      <td>36.6</td>\n",
       "      <td>42.0</td>\n",
       "      <td>18.000000</td>\n",
       "      <td>cool</td>\n",
       "      <td>reduced</td>\n",
       "      <td>bright_pink</td>\n",
       "      <td>less_3_sec</td>\n",
       "      <td>...</td>\n",
       "      <td>52.0</td>\n",
       "      <td>7.100000</td>\n",
       "      <td>cloudy</td>\n",
       "      <td>2.3</td>\n",
       "      <td>died</td>\n",
       "      <td>yes</td>\n",
       "      <td>5111</td>\n",
       "      <td>0</td>\n",
       "      <td>0</td>\n",
       "      <td>no</td>\n",
       "    </tr>\n",
       "    <tr>\n",
       "      <th>258</th>\n",
       "      <td>yes</td>\n",
       "      <td>adult</td>\n",
       "      <td>527734</td>\n",
       "      <td>40.8</td>\n",
       "      <td>72.0</td>\n",
       "      <td>42.000000</td>\n",
       "      <td>cool</td>\n",
       "      <td>reduced</td>\n",
       "      <td>normal_pink</td>\n",
       "      <td>less_3_sec</td>\n",
       "      <td>...</td>\n",
       "      <td>54.0</td>\n",
       "      <td>7.400000</td>\n",
       "      <td>serosanguious</td>\n",
       "      <td>2.3</td>\n",
       "      <td>died</td>\n",
       "      <td>yes</td>\n",
       "      <td>11400</td>\n",
       "      <td>0</td>\n",
       "      <td>0</td>\n",
       "      <td>yes</td>\n",
       "    </tr>\n",
       "    <tr>\n",
       "      <th>276</th>\n",
       "      <td>no</td>\n",
       "      <td>adult</td>\n",
       "      <td>528620</td>\n",
       "      <td>36.9</td>\n",
       "      <td>50.0</td>\n",
       "      <td>40.000000</td>\n",
       "      <td>warm</td>\n",
       "      <td>reduced</td>\n",
       "      <td>pale_pink</td>\n",
       "      <td>less_3_sec</td>\n",
       "      <td>...</td>\n",
       "      <td>37.5</td>\n",
       "      <td>6.500000</td>\n",
       "      <td>cloudy</td>\n",
       "      <td>2.3</td>\n",
       "      <td>lived</td>\n",
       "      <td>no</td>\n",
       "      <td>3111</td>\n",
       "      <td>0</td>\n",
       "      <td>0</td>\n",
       "      <td>no</td>\n",
       "    </tr>\n",
       "    <tr>\n",
       "      <th>280</th>\n",
       "      <td>no</td>\n",
       "      <td>adult</td>\n",
       "      <td>530624</td>\n",
       "      <td>40.0</td>\n",
       "      <td>78.0</td>\n",
       "      <td>30.460581</td>\n",
       "      <td>cool</td>\n",
       "      <td>reduced</td>\n",
       "      <td>bright_red</td>\n",
       "      <td>less_3_sec</td>\n",
       "      <td>...</td>\n",
       "      <td>66.0</td>\n",
       "      <td>6.500000</td>\n",
       "      <td>cloudy</td>\n",
       "      <td>2.3</td>\n",
       "      <td>died</td>\n",
       "      <td>yes</td>\n",
       "      <td>8400</td>\n",
       "      <td>0</td>\n",
       "      <td>0</td>\n",
       "      <td>yes</td>\n",
       "    </tr>\n",
       "    <tr>\n",
       "      <th>286</th>\n",
       "      <td>no</td>\n",
       "      <td>young</td>\n",
       "      <td>5305129</td>\n",
       "      <td>39.5</td>\n",
       "      <td>84.0</td>\n",
       "      <td>30.000000</td>\n",
       "      <td>cool</td>\n",
       "      <td>normal</td>\n",
       "      <td>normal_pink</td>\n",
       "      <td>less_3_sec</td>\n",
       "      <td>...</td>\n",
       "      <td>28.0</td>\n",
       "      <td>5.000000</td>\n",
       "      <td>cloudy</td>\n",
       "      <td>2.3</td>\n",
       "      <td>lived</td>\n",
       "      <td>no</td>\n",
       "      <td>0</td>\n",
       "      <td>0</td>\n",
       "      <td>0</td>\n",
       "      <td>no</td>\n",
       "    </tr>\n",
       "    <tr>\n",
       "      <th>297</th>\n",
       "      <td>yes</td>\n",
       "      <td>adult</td>\n",
       "      <td>530612</td>\n",
       "      <td>36.5</td>\n",
       "      <td>100.0</td>\n",
       "      <td>24.000000</td>\n",
       "      <td>cool</td>\n",
       "      <td>reduced</td>\n",
       "      <td>pale_pink</td>\n",
       "      <td>less_3_sec</td>\n",
       "      <td>...</td>\n",
       "      <td>50.0</td>\n",
       "      <td>6.000000</td>\n",
       "      <td>serosanguious</td>\n",
       "      <td>3.4</td>\n",
       "      <td>lived</td>\n",
       "      <td>yes</td>\n",
       "      <td>2208</td>\n",
       "      <td>0</td>\n",
       "      <td>0</td>\n",
       "      <td>yes</td>\n",
       "    </tr>\n",
       "  </tbody>\n",
       "</table>\n",
       "<p>20 rows × 28 columns</p>\n",
       "</div>"
      ],
      "text/plain": [
       "    surgery    age  hospital_number  rectal_temp  pulse  respiratory_rate  \\\n",
       "20      yes  adult           530157         39.9   72.0         60.000000   \n",
       "44      yes  adult           535407         35.4  140.0         24.000000   \n",
       "54       no  adult           529461         40.3  114.0         36.000000   \n",
       "75      yes  young           534092         39.7  100.0         30.460581   \n",
       "80      yes  adult           527518         36.4   98.0         35.000000   \n",
       "91       no  adult           529461         40.3  114.0         36.000000   \n",
       "99       no  adult           530002         39.6  108.0         51.000000   \n",
       "113     yes  adult           527933         36.8   60.0         28.000000   \n",
       "117      no  adult          5290482         39.5   72.0         30.460581   \n",
       "118     yes  adult           533983         36.5   78.0         30.000000   \n",
       "140      no  adult           522979         36.0   42.0         30.000000   \n",
       "161      no  adult           535176         39.5   60.0         10.000000   \n",
       "230      no  adult           530028         39.5   92.0         28.000000   \n",
       "237      no  adult           528702         36.1   88.0         30.460581   \n",
       "250      no  adult           527940         36.6   42.0         18.000000   \n",
       "258     yes  adult           527734         40.8   72.0         42.000000   \n",
       "276      no  adult           528620         36.9   50.0         40.000000   \n",
       "280      no  adult           530624         40.0   78.0         30.460581   \n",
       "286      no  young          5305129         39.5   84.0         30.000000   \n",
       "297     yes  adult           530612         36.5  100.0         24.000000   \n",
       "\n",
       "    temp_of_extremities peripheral_pulse mucous_membrane  \\\n",
       "20               normal           normal      bright_red   \n",
       "44                 cool          reduced   pale_cyanotic   \n",
       "54                 cool          reduced     normal_pink   \n",
       "75                 cool          reduced      bright_red   \n",
       "80                 cool          reduced   pale_cyanotic   \n",
       "91                 cool          reduced     normal_pink   \n",
       "99                 cool          reduced   dark_cyanotic   \n",
       "113                cool           normal     normal_pink   \n",
       "117                cool          reduced   pale_cyanotic   \n",
       "118              normal           normal     normal_pink   \n",
       "140                cool           normal      bright_red   \n",
       "161                cool           normal     normal_pink   \n",
       "230                cool          reduced   dark_cyanotic   \n",
       "237                cool          reduced       pale_pink   \n",
       "250                cool          reduced     bright_pink   \n",
       "258                cool          reduced     normal_pink   \n",
       "276                warm          reduced       pale_pink   \n",
       "280                cool          reduced      bright_red   \n",
       "286                cool           normal     normal_pink   \n",
       "297                cool          reduced       pale_pink   \n",
       "\n",
       "    capillary_refill_time  ... packed_cell_volume total_protein  \\\n",
       "20             more_3_sec  ...               46.0      6.100000   \n",
       "44             more_3_sec  ...               57.0     69.000000   \n",
       "54             more_3_sec  ...               57.0      8.100000   \n",
       "75             more_3_sec  ...               48.0     57.000000   \n",
       "80             less_3_sec  ...               47.0      6.400000   \n",
       "91             more_3_sec  ...               57.0      8.100000   \n",
       "99             more_3_sec  ...               59.0      8.000000   \n",
       "113            less_3_sec  ...               45.0     24.274436   \n",
       "117            more_3_sec  ...               45.0      6.700000   \n",
       "118            less_3_sec  ...               34.0     75.000000   \n",
       "140            less_3_sec  ...               64.0      6.800000   \n",
       "161            more_3_sec  ...               38.0     56.000000   \n",
       "230            less_3_sec  ...               72.0      6.400000   \n",
       "237            less_3_sec  ...               45.0      7.000000   \n",
       "250            less_3_sec  ...               52.0      7.100000   \n",
       "258            less_3_sec  ...               54.0      7.400000   \n",
       "276            less_3_sec  ...               37.5      6.500000   \n",
       "280            less_3_sec  ...               66.0      6.500000   \n",
       "286            less_3_sec  ...               28.0      5.000000   \n",
       "297            less_3_sec  ...               50.0      6.000000   \n",
       "\n",
       "    abdomo_appearance abdomo_protein     outcome  surgical_lesion lesion_1  \\\n",
       "20             cloudy            2.3       lived              yes     2111   \n",
       "44      serosanguious            2.0  euthanized              yes     3205   \n",
       "54      serosanguious            4.5  euthanized              yes     7400   \n",
       "75             cloudy            2.0  euthanized              yes     1400   \n",
       "80      serosanguious            3.6        died              yes     2205   \n",
       "91      serosanguious            4.5        died              yes     3205   \n",
       "99             cloudy            2.6       lived               no     4300   \n",
       "113            cloudy           10.0        died              yes     3205   \n",
       "117             clear            2.3  euthanized              yes     4205   \n",
       "118            cloudy            1.0       lived              yes     3112   \n",
       "140            cloudy            2.3        died               no     1400   \n",
       "161             clear            2.3       lived               no        0   \n",
       "230            cloudy            3.6        died               no     3300   \n",
       "237     serosanguious            4.8  euthanized              yes     2209   \n",
       "250            cloudy            2.3        died              yes     5111   \n",
       "258     serosanguious            2.3        died              yes    11400   \n",
       "276            cloudy            2.3       lived               no     3111   \n",
       "280            cloudy            2.3        died              yes     8400   \n",
       "286            cloudy            2.3       lived               no        0   \n",
       "297     serosanguious            3.4       lived              yes     2208   \n",
       "\n",
       "    lesion_2  lesion_3  cp_data  \n",
       "20         0         0       no  \n",
       "44         0         0       no  \n",
       "54         0         0      yes  \n",
       "75         0         0       no  \n",
       "80         0         0      yes  \n",
       "91         0         0      yes  \n",
       "99         0         0      yes  \n",
       "113        0         0      yes  \n",
       "117        0         0       no  \n",
       "118     6112         0       no  \n",
       "140        0         0       no  \n",
       "161        0         0       no  \n",
       "230        0         0       no  \n",
       "237        0         0      yes  \n",
       "250        0         0       no  \n",
       "258        0         0      yes  \n",
       "276        0         0       no  \n",
       "280        0         0      yes  \n",
       "286        0         0       no  \n",
       "297        0         0      yes  \n",
       "\n",
       "[20 rows x 28 columns]"
      ]
     },
     "execution_count": 490,
     "metadata": {},
     "output_type": "execute_result"
    }
   ],
   "source": [
    "# here we filtering outlieres values\n",
    "data[(data['rectal_temp'] < Lowran) | (data['rectal_temp'] >Upperran)]"
   ]
  },
  {
   "cell_type": "code",
   "execution_count": 491,
   "metadata": {},
   "outputs": [
    {
     "data": {
      "text/plain": [
       "38.168619246861994"
      ]
     },
     "execution_count": 491,
     "metadata": {},
     "output_type": "execute_result"
    }
   ],
   "source": [
    "# here we get mean value of 'rectal_temp' column.\n",
    "data['rectal_temp'].mean()"
   ]
  },
  {
   "cell_type": "code",
   "execution_count": 492,
   "metadata": {},
   "outputs": [],
   "source": [
    "# here we replace outlieres values into this column mean value.\n",
    "data.iloc[[20,44,54,75,80,91,99,113,117,118,140,161,230,237,250,258,276,280,286,297],[3]] = 38.1"
   ]
  },
  {
   "cell_type": "code",
   "execution_count": 493,
   "metadata": {
    "scrolled": true
   },
   "outputs": [
    {
     "data": {
      "text/html": [
       "<div>\n",
       "<style scoped>\n",
       "    .dataframe tbody tr th:only-of-type {\n",
       "        vertical-align: middle;\n",
       "    }\n",
       "\n",
       "    .dataframe tbody tr th {\n",
       "        vertical-align: top;\n",
       "    }\n",
       "\n",
       "    .dataframe thead th {\n",
       "        text-align: right;\n",
       "    }\n",
       "</style>\n",
       "<table border=\"1\" class=\"dataframe\">\n",
       "  <thead>\n",
       "    <tr style=\"text-align: right;\">\n",
       "      <th></th>\n",
       "      <th>surgery</th>\n",
       "      <th>age</th>\n",
       "      <th>hospital_number</th>\n",
       "      <th>rectal_temp</th>\n",
       "      <th>pulse</th>\n",
       "      <th>respiratory_rate</th>\n",
       "      <th>temp_of_extremities</th>\n",
       "      <th>peripheral_pulse</th>\n",
       "      <th>mucous_membrane</th>\n",
       "      <th>capillary_refill_time</th>\n",
       "      <th>...</th>\n",
       "      <th>packed_cell_volume</th>\n",
       "      <th>total_protein</th>\n",
       "      <th>abdomo_appearance</th>\n",
       "      <th>abdomo_protein</th>\n",
       "      <th>outcome</th>\n",
       "      <th>surgical_lesion</th>\n",
       "      <th>lesion_1</th>\n",
       "      <th>lesion_2</th>\n",
       "      <th>lesion_3</th>\n",
       "      <th>cp_data</th>\n",
       "    </tr>\n",
       "  </thead>\n",
       "  <tbody>\n",
       "  </tbody>\n",
       "</table>\n",
       "<p>0 rows × 28 columns</p>\n",
       "</div>"
      ],
      "text/plain": [
       "Empty DataFrame\n",
       "Columns: [surgery, age, hospital_number, rectal_temp, pulse, respiratory_rate, temp_of_extremities, peripheral_pulse, mucous_membrane, capillary_refill_time, pain, peristalsis, abdominal_distention, nasogastric_tube, nasogastric_reflux, nasogastric_reflux_ph, rectal_exam_feces, abdomen, packed_cell_volume, total_protein, abdomo_appearance, abdomo_protein, outcome, surgical_lesion, lesion_1, lesion_2, lesion_3, cp_data]\n",
       "Index: []\n",
       "\n",
       "[0 rows x 28 columns]"
      ]
     },
     "execution_count": 493,
     "metadata": {},
     "output_type": "execute_result"
    }
   ],
   "source": [
    "# again we filtering for double check outlieres\n",
    "data[(data['rectal_temp'] < Lowran) | (data['rectal_temp'] >Upperran)]"
   ]
  },
  {
   "cell_type": "code",
   "execution_count": 494,
   "metadata": {
    "scrolled": false
   },
   "outputs": [
    {
     "name": "stderr",
     "output_type": "stream",
     "text": [
      "C:\\Users\\ANOOP\\anaconda3\\lib\\site-packages\\seaborn\\_decorators.py:43: FutureWarning: Pass the following variable as a keyword arg: x. From version 0.12, the only valid positional argument will be `data`, and passing other arguments without an explicit keyword will result in an error or misinterpretation.\n",
      "  FutureWarning\n"
     ]
    },
    {
     "data": {
      "text/plain": [
       "<matplotlib.axes._subplots.AxesSubplot at 0x1c175b8ccc8>"
      ]
     },
     "execution_count": 494,
     "metadata": {},
     "output_type": "execute_result"
    },
    {
     "data": {
      "image/png": "[encoded data removed]",
      "text/plain": [
       "<Figure size 432x288 with 1 Axes>"
      ]
     },
     "metadata": {
      "needs_background": "light"
     },
     "output_type": "display_data"
    }
   ],
   "source": [
    "# here we checking outlier visually of 'pulse' column.\n",
    "sns.boxplot(data.pulse)"
   ]
  },
  {
   "cell_type": "code",
   "execution_count": 495,
   "metadata": {},
   "outputs": [
    {
     "name": "stdout",
     "output_type": "stream",
     "text": [
      "-10.75 147.25\n"
     ]
    }
   ],
   "source": [
    "# here we getting upper range and lower range  both values\n",
    "Lowran,Upperran = outlinefree(data.pulse)\n",
    "print(Lowran,Upperran)"
   ]
  },
  {
   "cell_type": "code",
   "execution_count": 496,
   "metadata": {},
   "outputs": [
    {
     "data": {
      "text/html": [
       "<div>\n",
       "<style scoped>\n",
       "    .dataframe tbody tr th:only-of-type {\n",
       "        vertical-align: middle;\n",
       "    }\n",
       "\n",
       "    .dataframe tbody tr th {\n",
       "        vertical-align: top;\n",
       "    }\n",
       "\n",
       "    .dataframe thead th {\n",
       "        text-align: right;\n",
       "    }\n",
       "</style>\n",
       "<table border=\"1\" class=\"dataframe\">\n",
       "  <thead>\n",
       "    <tr style=\"text-align: right;\">\n",
       "      <th></th>\n",
       "      <th>surgery</th>\n",
       "      <th>age</th>\n",
       "      <th>hospital_number</th>\n",
       "      <th>rectal_temp</th>\n",
       "      <th>pulse</th>\n",
       "      <th>respiratory_rate</th>\n",
       "      <th>temp_of_extremities</th>\n",
       "      <th>peripheral_pulse</th>\n",
       "      <th>mucous_membrane</th>\n",
       "      <th>capillary_refill_time</th>\n",
       "      <th>...</th>\n",
       "      <th>packed_cell_volume</th>\n",
       "      <th>total_protein</th>\n",
       "      <th>abdomo_appearance</th>\n",
       "      <th>abdomo_protein</th>\n",
       "      <th>outcome</th>\n",
       "      <th>surgical_lesion</th>\n",
       "      <th>lesion_1</th>\n",
       "      <th>lesion_2</th>\n",
       "      <th>lesion_3</th>\n",
       "      <th>cp_data</th>\n",
       "    </tr>\n",
       "  </thead>\n",
       "  <tbody>\n",
       "    <tr>\n",
       "      <th>3</th>\n",
       "      <td>yes</td>\n",
       "      <td>young</td>\n",
       "      <td>5290409</td>\n",
       "      <td>39.1</td>\n",
       "      <td>164.0</td>\n",
       "      <td>84.0</td>\n",
       "      <td>cold</td>\n",
       "      <td>normal</td>\n",
       "      <td>dark_cyanotic</td>\n",
       "      <td>more_3_sec</td>\n",
       "      <td>...</td>\n",
       "      <td>48.0</td>\n",
       "      <td>7.200000</td>\n",
       "      <td>serosanguious</td>\n",
       "      <td>5.3</td>\n",
       "      <td>died</td>\n",
       "      <td>yes</td>\n",
       "      <td>2208</td>\n",
       "      <td>0</td>\n",
       "      <td>0</td>\n",
       "      <td>yes</td>\n",
       "    </tr>\n",
       "    <tr>\n",
       "      <th>41</th>\n",
       "      <td>no</td>\n",
       "      <td>young</td>\n",
       "      <td>5288249</td>\n",
       "      <td>39.0</td>\n",
       "      <td>150.0</td>\n",
       "      <td>72.0</td>\n",
       "      <td>cool</td>\n",
       "      <td>normal</td>\n",
       "      <td>normal_pink</td>\n",
       "      <td>less_3_sec</td>\n",
       "      <td>...</td>\n",
       "      <td>47.0</td>\n",
       "      <td>8.500000</td>\n",
       "      <td>cloudy</td>\n",
       "      <td>0.1</td>\n",
       "      <td>lived</td>\n",
       "      <td>yes</td>\n",
       "      <td>9400</td>\n",
       "      <td>0</td>\n",
       "      <td>0</td>\n",
       "      <td>yes</td>\n",
       "    </tr>\n",
       "    <tr>\n",
       "      <th>55</th>\n",
       "      <td>yes</td>\n",
       "      <td>young</td>\n",
       "      <td>5282839</td>\n",
       "      <td>38.6</td>\n",
       "      <td>160.0</td>\n",
       "      <td>20.0</td>\n",
       "      <td>cool</td>\n",
       "      <td>normal</td>\n",
       "      <td>bright_red</td>\n",
       "      <td>less_3_sec</td>\n",
       "      <td>...</td>\n",
       "      <td>38.0</td>\n",
       "      <td>24.274436</td>\n",
       "      <td>cloudy</td>\n",
       "      <td>2.3</td>\n",
       "      <td>died</td>\n",
       "      <td>yes</td>\n",
       "      <td>7111</td>\n",
       "      <td>0</td>\n",
       "      <td>0</td>\n",
       "      <td>yes</td>\n",
       "    </tr>\n",
       "    <tr>\n",
       "      <th>254</th>\n",
       "      <td>yes</td>\n",
       "      <td>young</td>\n",
       "      <td>5294539</td>\n",
       "      <td>38.8</td>\n",
       "      <td>184.0</td>\n",
       "      <td>84.0</td>\n",
       "      <td>normal</td>\n",
       "      <td>normal</td>\n",
       "      <td>normal_pink</td>\n",
       "      <td>less_3_sec</td>\n",
       "      <td>...</td>\n",
       "      <td>33.0</td>\n",
       "      <td>3.300000</td>\n",
       "      <td>cloudy</td>\n",
       "      <td>2.3</td>\n",
       "      <td>died</td>\n",
       "      <td>yes</td>\n",
       "      <td>7111</td>\n",
       "      <td>0</td>\n",
       "      <td>0</td>\n",
       "      <td>no</td>\n",
       "    </tr>\n",
       "    <tr>\n",
       "      <th>274</th>\n",
       "      <td>yes</td>\n",
       "      <td>young</td>\n",
       "      <td>5297159</td>\n",
       "      <td>38.8</td>\n",
       "      <td>150.0</td>\n",
       "      <td>50.0</td>\n",
       "      <td>normal</td>\n",
       "      <td>reduced</td>\n",
       "      <td>dark_cyanotic</td>\n",
       "      <td>more_3_sec</td>\n",
       "      <td>...</td>\n",
       "      <td>50.0</td>\n",
       "      <td>6.200000</td>\n",
       "      <td>cloudy</td>\n",
       "      <td>2.3</td>\n",
       "      <td>died</td>\n",
       "      <td>yes</td>\n",
       "      <td>4207</td>\n",
       "      <td>0</td>\n",
       "      <td>0</td>\n",
       "      <td>no</td>\n",
       "    </tr>\n",
       "  </tbody>\n",
       "</table>\n",
       "<p>5 rows × 28 columns</p>\n",
       "</div>"
      ],
      "text/plain": [
       "    surgery    age  hospital_number  rectal_temp  pulse  respiratory_rate  \\\n",
       "3       yes  young          5290409         39.1  164.0              84.0   \n",
       "41       no  young          5288249         39.0  150.0              72.0   \n",
       "55      yes  young          5282839         38.6  160.0              20.0   \n",
       "254     yes  young          5294539         38.8  184.0              84.0   \n",
       "274     yes  young          5297159         38.8  150.0              50.0   \n",
       "\n",
       "    temp_of_extremities peripheral_pulse mucous_membrane  \\\n",
       "3                  cold           normal   dark_cyanotic   \n",
       "41                 cool           normal     normal_pink   \n",
       "55                 cool           normal      bright_red   \n",
       "254              normal           normal     normal_pink   \n",
       "274              normal          reduced   dark_cyanotic   \n",
       "\n",
       "    capillary_refill_time  ... packed_cell_volume total_protein  \\\n",
       "3              more_3_sec  ...               48.0      7.200000   \n",
       "41             less_3_sec  ...               47.0      8.500000   \n",
       "55             less_3_sec  ...               38.0     24.274436   \n",
       "254            less_3_sec  ...               33.0      3.300000   \n",
       "274            more_3_sec  ...               50.0      6.200000   \n",
       "\n",
       "    abdomo_appearance abdomo_protein outcome  surgical_lesion lesion_1  \\\n",
       "3       serosanguious            5.3    died              yes     2208   \n",
       "41             cloudy            0.1   lived              yes     9400   \n",
       "55             cloudy            2.3    died              yes     7111   \n",
       "254            cloudy            2.3    died              yes     7111   \n",
       "274            cloudy            2.3    died              yes     4207   \n",
       "\n",
       "    lesion_2  lesion_3  cp_data  \n",
       "3          0         0      yes  \n",
       "41         0         0      yes  \n",
       "55         0         0      yes  \n",
       "254        0         0       no  \n",
       "274        0         0       no  \n",
       "\n",
       "[5 rows x 28 columns]"
      ]
     },
     "execution_count": 496,
     "metadata": {},
     "output_type": "execute_result"
    }
   ],
   "source": [
    "# here we filtering outlieres values\n",
    "data[(data['pulse'] < Lowran) | (data['pulse'] > Upperran)]"
   ]
  },
  {
   "cell_type": "code",
   "execution_count": 497,
   "metadata": {},
   "outputs": [
    {
     "data": {
      "text/plain": [
       "72.0"
      ]
     },
     "execution_count": 497,
     "metadata": {},
     "output_type": "execute_result"
    }
   ],
   "source": [
    "# here we get mean value of 'pulse' column.\n",
    "data['pulse'].mean()"
   ]
  },
  {
   "cell_type": "code",
   "execution_count": 498,
   "metadata": {},
   "outputs": [],
   "source": [
    "# here we replace outlieres values into this column mean value.\n",
    "data.iloc[[3,41,55,254,274],[4]] = 72.0"
   ]
  },
  {
   "cell_type": "code",
   "execution_count": 499,
   "metadata": {},
   "outputs": [
    {
     "data": {
      "text/html": [
       "<div>\n",
       "<style scoped>\n",
       "    .dataframe tbody tr th:only-of-type {\n",
       "        vertical-align: middle;\n",
       "    }\n",
       "\n",
       "    .dataframe tbody tr th {\n",
       "        vertical-align: top;\n",
       "    }\n",
       "\n",
       "    .dataframe thead th {\n",
       "        text-align: right;\n",
       "    }\n",
       "</style>\n",
       "<table border=\"1\" class=\"dataframe\">\n",
       "  <thead>\n",
       "    <tr style=\"text-align: right;\">\n",
       "      <th></th>\n",
       "      <th>surgery</th>\n",
       "      <th>age</th>\n",
       "      <th>hospital_number</th>\n",
       "      <th>rectal_temp</th>\n",
       "      <th>pulse</th>\n",
       "      <th>respiratory_rate</th>\n",
       "      <th>temp_of_extremities</th>\n",
       "      <th>peripheral_pulse</th>\n",
       "      <th>mucous_membrane</th>\n",
       "      <th>capillary_refill_time</th>\n",
       "      <th>...</th>\n",
       "      <th>packed_cell_volume</th>\n",
       "      <th>total_protein</th>\n",
       "      <th>abdomo_appearance</th>\n",
       "      <th>abdomo_protein</th>\n",
       "      <th>outcome</th>\n",
       "      <th>surgical_lesion</th>\n",
       "      <th>lesion_1</th>\n",
       "      <th>lesion_2</th>\n",
       "      <th>lesion_3</th>\n",
       "      <th>cp_data</th>\n",
       "    </tr>\n",
       "  </thead>\n",
       "  <tbody>\n",
       "  </tbody>\n",
       "</table>\n",
       "<p>0 rows × 28 columns</p>\n",
       "</div>"
      ],
      "text/plain": [
       "Empty DataFrame\n",
       "Columns: [surgery, age, hospital_number, rectal_temp, pulse, respiratory_rate, temp_of_extremities, peripheral_pulse, mucous_membrane, capillary_refill_time, pain, peristalsis, abdominal_distention, nasogastric_tube, nasogastric_reflux, nasogastric_reflux_ph, rectal_exam_feces, abdomen, packed_cell_volume, total_protein, abdomo_appearance, abdomo_protein, outcome, surgical_lesion, lesion_1, lesion_2, lesion_3, cp_data]\n",
       "Index: []\n",
       "\n",
       "[0 rows x 28 columns]"
      ]
     },
     "execution_count": 499,
     "metadata": {},
     "output_type": "execute_result"
    }
   ],
   "source": [
    "# again we filtering for double check outlieres\n",
    "data[(data['pulse'] < Lowran) | (data['pulse'] > Upperran)]"
   ]
  },
  {
   "cell_type": "code",
   "execution_count": 500,
   "metadata": {
    "scrolled": false
   },
   "outputs": [
    {
     "name": "stderr",
     "output_type": "stream",
     "text": [
      "C:\\Users\\ANOOP\\anaconda3\\lib\\site-packages\\seaborn\\_decorators.py:43: FutureWarning: Pass the following variable as a keyword arg: x. From version 0.12, the only valid positional argument will be `data`, and passing other arguments without an explicit keyword will result in an error or misinterpretation.\n",
      "  FutureWarning\n"
     ]
    },
    {
     "data": {
      "text/plain": [
       "<matplotlib.axes._subplots.AxesSubplot at 0x1c175cecb08>"
      ]
     },
     "execution_count": 500,
     "metadata": {},
     "output_type": "execute_result"
    },
    {
     "data": {
      "image/png": "[encoded data removed]",
      "text/plain": [
       "<Figure size 432x288 with 1 Axes>"
      ]
     },
     "metadata": {
      "needs_background": "light"
     },
     "output_type": "display_data"
    }
   ],
   "source": [
    "# here we checking outlier visually of 'respiratory_rate' column.\n",
    "sns.boxplot(data.respiratory_rate)"
   ]
  },
  {
   "cell_type": "code",
   "execution_count": 501,
   "metadata": {},
   "outputs": [
    {
     "name": "stdout",
     "output_type": "stream",
     "text": [
      "-1.75 56.25\n"
     ]
    }
   ],
   "source": [
    "# here we getting upper range and lower range  both values\n",
    "Lowran, Upperran = outlinefree(data.respiratory_rate)\n",
    "print(Lowran,Upperran)"
   ]
  },
  {
   "cell_type": "code",
   "execution_count": 502,
   "metadata": {},
   "outputs": [
    {
     "data": {
      "text/html": [
       "<div>\n",
       "<style scoped>\n",
       "    .dataframe tbody tr th:only-of-type {\n",
       "        vertical-align: middle;\n",
       "    }\n",
       "\n",
       "    .dataframe tbody tr th {\n",
       "        vertical-align: top;\n",
       "    }\n",
       "\n",
       "    .dataframe thead th {\n",
       "        text-align: right;\n",
       "    }\n",
       "</style>\n",
       "<table border=\"1\" class=\"dataframe\">\n",
       "  <thead>\n",
       "    <tr style=\"text-align: right;\">\n",
       "      <th></th>\n",
       "      <th>surgery</th>\n",
       "      <th>age</th>\n",
       "      <th>hospital_number</th>\n",
       "      <th>rectal_temp</th>\n",
       "      <th>pulse</th>\n",
       "      <th>respiratory_rate</th>\n",
       "      <th>temp_of_extremities</th>\n",
       "      <th>peripheral_pulse</th>\n",
       "      <th>mucous_membrane</th>\n",
       "      <th>capillary_refill_time</th>\n",
       "      <th>...</th>\n",
       "      <th>packed_cell_volume</th>\n",
       "      <th>total_protein</th>\n",
       "      <th>abdomo_appearance</th>\n",
       "      <th>abdomo_protein</th>\n",
       "      <th>outcome</th>\n",
       "      <th>surgical_lesion</th>\n",
       "      <th>lesion_1</th>\n",
       "      <th>lesion_2</th>\n",
       "      <th>lesion_3</th>\n",
       "      <th>cp_data</th>\n",
       "    </tr>\n",
       "  </thead>\n",
       "  <tbody>\n",
       "    <tr>\n",
       "      <th>3</th>\n",
       "      <td>yes</td>\n",
       "      <td>young</td>\n",
       "      <td>5290409</td>\n",
       "      <td>39.100000</td>\n",
       "      <td>72.0</td>\n",
       "      <td>84.0</td>\n",
       "      <td>cold</td>\n",
       "      <td>normal</td>\n",
       "      <td>dark_cyanotic</td>\n",
       "      <td>more_3_sec</td>\n",
       "      <td>...</td>\n",
       "      <td>48.0</td>\n",
       "      <td>7.200000</td>\n",
       "      <td>serosanguious</td>\n",
       "      <td>5.3</td>\n",
       "      <td>died</td>\n",
       "      <td>yes</td>\n",
       "      <td>2208</td>\n",
       "      <td>0</td>\n",
       "      <td>0</td>\n",
       "      <td>yes</td>\n",
       "    </tr>\n",
       "    <tr>\n",
       "      <th>20</th>\n",
       "      <td>yes</td>\n",
       "      <td>adult</td>\n",
       "      <td>530157</td>\n",
       "      <td>38.100000</td>\n",
       "      <td>72.0</td>\n",
       "      <td>60.0</td>\n",
       "      <td>normal</td>\n",
       "      <td>normal</td>\n",
       "      <td>bright_red</td>\n",
       "      <td>more_3_sec</td>\n",
       "      <td>...</td>\n",
       "      <td>46.0</td>\n",
       "      <td>6.100000</td>\n",
       "      <td>cloudy</td>\n",
       "      <td>2.3</td>\n",
       "      <td>lived</td>\n",
       "      <td>yes</td>\n",
       "      <td>2111</td>\n",
       "      <td>0</td>\n",
       "      <td>0</td>\n",
       "      <td>no</td>\n",
       "    </tr>\n",
       "    <tr>\n",
       "      <th>23</th>\n",
       "      <td>yes</td>\n",
       "      <td>young</td>\n",
       "      <td>534998</td>\n",
       "      <td>38.300000</td>\n",
       "      <td>130.0</td>\n",
       "      <td>60.0</td>\n",
       "      <td>cool</td>\n",
       "      <td>reduced</td>\n",
       "      <td>normal_pink</td>\n",
       "      <td>less_3_sec</td>\n",
       "      <td>...</td>\n",
       "      <td>50.0</td>\n",
       "      <td>70.000000</td>\n",
       "      <td>cloudy</td>\n",
       "      <td>2.3</td>\n",
       "      <td>lived</td>\n",
       "      <td>yes</td>\n",
       "      <td>3111</td>\n",
       "      <td>0</td>\n",
       "      <td>0</td>\n",
       "      <td>no</td>\n",
       "    </tr>\n",
       "    <tr>\n",
       "      <th>39</th>\n",
       "      <td>yes</td>\n",
       "      <td>young</td>\n",
       "      <td>5277409</td>\n",
       "      <td>39.200000</td>\n",
       "      <td>146.0</td>\n",
       "      <td>96.0</td>\n",
       "      <td>cool</td>\n",
       "      <td>normal</td>\n",
       "      <td>normal_pink</td>\n",
       "      <td>less_3_sec</td>\n",
       "      <td>...</td>\n",
       "      <td>45.0</td>\n",
       "      <td>24.274436</td>\n",
       "      <td>cloudy</td>\n",
       "      <td>2.3</td>\n",
       "      <td>died</td>\n",
       "      <td>yes</td>\n",
       "      <td>2113</td>\n",
       "      <td>0</td>\n",
       "      <td>0</td>\n",
       "      <td>no</td>\n",
       "    </tr>\n",
       "    <tr>\n",
       "      <th>41</th>\n",
       "      <td>no</td>\n",
       "      <td>young</td>\n",
       "      <td>5288249</td>\n",
       "      <td>39.000000</td>\n",
       "      <td>72.0</td>\n",
       "      <td>72.0</td>\n",
       "      <td>cool</td>\n",
       "      <td>normal</td>\n",
       "      <td>normal_pink</td>\n",
       "      <td>less_3_sec</td>\n",
       "      <td>...</td>\n",
       "      <td>47.0</td>\n",
       "      <td>8.500000</td>\n",
       "      <td>cloudy</td>\n",
       "      <td>0.1</td>\n",
       "      <td>lived</td>\n",
       "      <td>yes</td>\n",
       "      <td>9400</td>\n",
       "      <td>0</td>\n",
       "      <td>0</td>\n",
       "      <td>yes</td>\n",
       "    </tr>\n",
       "    <tr>\n",
       "      <th>82</th>\n",
       "      <td>yes</td>\n",
       "      <td>young</td>\n",
       "      <td>5290759</td>\n",
       "      <td>38.100000</td>\n",
       "      <td>100.0</td>\n",
       "      <td>80.0</td>\n",
       "      <td>cool</td>\n",
       "      <td>normal</td>\n",
       "      <td>bright_pink</td>\n",
       "      <td>less_3_sec</td>\n",
       "      <td>...</td>\n",
       "      <td>36.0</td>\n",
       "      <td>5.700000</td>\n",
       "      <td>cloudy</td>\n",
       "      <td>2.3</td>\n",
       "      <td>lived</td>\n",
       "      <td>yes</td>\n",
       "      <td>3111</td>\n",
       "      <td>0</td>\n",
       "      <td>0</td>\n",
       "      <td>no</td>\n",
       "    </tr>\n",
       "    <tr>\n",
       "      <th>84</th>\n",
       "      <td>yes</td>\n",
       "      <td>adult</td>\n",
       "      <td>529849</td>\n",
       "      <td>37.800000</td>\n",
       "      <td>60.0</td>\n",
       "      <td>80.0</td>\n",
       "      <td>normal</td>\n",
       "      <td>reduced</td>\n",
       "      <td>bright_pink</td>\n",
       "      <td>more_3_sec</td>\n",
       "      <td>...</td>\n",
       "      <td>40.0</td>\n",
       "      <td>4.500000</td>\n",
       "      <td>cloudy</td>\n",
       "      <td>2.3</td>\n",
       "      <td>lived</td>\n",
       "      <td>yes</td>\n",
       "      <td>5206</td>\n",
       "      <td>0</td>\n",
       "      <td>0</td>\n",
       "      <td>yes</td>\n",
       "    </tr>\n",
       "    <tr>\n",
       "      <th>103</th>\n",
       "      <td>yes</td>\n",
       "      <td>young</td>\n",
       "      <td>5292489</td>\n",
       "      <td>38.000000</td>\n",
       "      <td>140.0</td>\n",
       "      <td>68.0</td>\n",
       "      <td>normal</td>\n",
       "      <td>normal</td>\n",
       "      <td>normal_pink</td>\n",
       "      <td>less_3_sec</td>\n",
       "      <td>...</td>\n",
       "      <td>39.0</td>\n",
       "      <td>5.300000</td>\n",
       "      <td>cloudy</td>\n",
       "      <td>2.3</td>\n",
       "      <td>lived</td>\n",
       "      <td>yes</td>\n",
       "      <td>7111</td>\n",
       "      <td>0</td>\n",
       "      <td>0</td>\n",
       "      <td>no</td>\n",
       "    </tr>\n",
       "    <tr>\n",
       "      <th>106</th>\n",
       "      <td>yes</td>\n",
       "      <td>adult</td>\n",
       "      <td>528668</td>\n",
       "      <td>38.300000</td>\n",
       "      <td>52.0</td>\n",
       "      <td>96.0</td>\n",
       "      <td>cool</td>\n",
       "      <td>reduced</td>\n",
       "      <td>pale_pink</td>\n",
       "      <td>less_3_sec</td>\n",
       "      <td>...</td>\n",
       "      <td>43.0</td>\n",
       "      <td>6.100000</td>\n",
       "      <td>cloudy</td>\n",
       "      <td>2.3</td>\n",
       "      <td>lived</td>\n",
       "      <td>yes</td>\n",
       "      <td>3209</td>\n",
       "      <td>0</td>\n",
       "      <td>0</td>\n",
       "      <td>yes</td>\n",
       "    </tr>\n",
       "    <tr>\n",
       "      <th>120</th>\n",
       "      <td>yes</td>\n",
       "      <td>adult</td>\n",
       "      <td>528682</td>\n",
       "      <td>39.400000</td>\n",
       "      <td>54.0</td>\n",
       "      <td>66.0</td>\n",
       "      <td>normal</td>\n",
       "      <td>normal</td>\n",
       "      <td>bright_pink</td>\n",
       "      <td>less_3_sec</td>\n",
       "      <td>...</td>\n",
       "      <td>39.0</td>\n",
       "      <td>6.000000</td>\n",
       "      <td>cloudy</td>\n",
       "      <td>2.3</td>\n",
       "      <td>lived</td>\n",
       "      <td>yes</td>\n",
       "      <td>2206</td>\n",
       "      <td>0</td>\n",
       "      <td>0</td>\n",
       "      <td>yes</td>\n",
       "    </tr>\n",
       "    <tr>\n",
       "      <th>125</th>\n",
       "      <td>yes</td>\n",
       "      <td>adult</td>\n",
       "      <td>528461</td>\n",
       "      <td>38.000000</td>\n",
       "      <td>42.0</td>\n",
       "      <td>68.0</td>\n",
       "      <td>cold</td>\n",
       "      <td>normal</td>\n",
       "      <td>normal_pink</td>\n",
       "      <td>less_3_sec</td>\n",
       "      <td>...</td>\n",
       "      <td>41.0</td>\n",
       "      <td>7.600000</td>\n",
       "      <td>cloudy</td>\n",
       "      <td>2.3</td>\n",
       "      <td>lived</td>\n",
       "      <td>yes</td>\n",
       "      <td>2205</td>\n",
       "      <td>0</td>\n",
       "      <td>0</td>\n",
       "      <td>no</td>\n",
       "    </tr>\n",
       "    <tr>\n",
       "      <th>184</th>\n",
       "      <td>yes</td>\n",
       "      <td>adult</td>\n",
       "      <td>534833</td>\n",
       "      <td>38.500000</td>\n",
       "      <td>120.0</td>\n",
       "      <td>60.0</td>\n",
       "      <td>cold</td>\n",
       "      <td>reduced</td>\n",
       "      <td>dark_cyanotic</td>\n",
       "      <td>more_3_sec</td>\n",
       "      <td>...</td>\n",
       "      <td>54.0</td>\n",
       "      <td>24.274436</td>\n",
       "      <td>cloudy</td>\n",
       "      <td>2.3</td>\n",
       "      <td>lived</td>\n",
       "      <td>yes</td>\n",
       "      <td>5400</td>\n",
       "      <td>0</td>\n",
       "      <td>0</td>\n",
       "      <td>no</td>\n",
       "    </tr>\n",
       "    <tr>\n",
       "      <th>185</th>\n",
       "      <td>yes</td>\n",
       "      <td>adult</td>\n",
       "      <td>5278331</td>\n",
       "      <td>39.300000</td>\n",
       "      <td>64.0</td>\n",
       "      <td>90.0</td>\n",
       "      <td>warm</td>\n",
       "      <td>reduced</td>\n",
       "      <td>normal_pink</td>\n",
       "      <td>less_3_sec</td>\n",
       "      <td>...</td>\n",
       "      <td>39.0</td>\n",
       "      <td>6.700000</td>\n",
       "      <td>cloudy</td>\n",
       "      <td>2.3</td>\n",
       "      <td>lived</td>\n",
       "      <td>yes</td>\n",
       "      <td>21110</td>\n",
       "      <td>0</td>\n",
       "      <td>0</td>\n",
       "      <td>no</td>\n",
       "    </tr>\n",
       "    <tr>\n",
       "      <th>207</th>\n",
       "      <td>yes</td>\n",
       "      <td>adult</td>\n",
       "      <td>535338</td>\n",
       "      <td>37.800000</td>\n",
       "      <td>88.0</td>\n",
       "      <td>80.0</td>\n",
       "      <td>cool</td>\n",
       "      <td>reduced</td>\n",
       "      <td>bright_red</td>\n",
       "      <td>more_3_sec</td>\n",
       "      <td>...</td>\n",
       "      <td>64.0</td>\n",
       "      <td>89.000000</td>\n",
       "      <td>cloudy</td>\n",
       "      <td>2.3</td>\n",
       "      <td>euthanized</td>\n",
       "      <td>yes</td>\n",
       "      <td>3205</td>\n",
       "      <td>0</td>\n",
       "      <td>0</td>\n",
       "      <td>no</td>\n",
       "    </tr>\n",
       "    <tr>\n",
       "      <th>219</th>\n",
       "      <td>yes</td>\n",
       "      <td>adult</td>\n",
       "      <td>535029</td>\n",
       "      <td>39.200000</td>\n",
       "      <td>88.0</td>\n",
       "      <td>58.0</td>\n",
       "      <td>cold</td>\n",
       "      <td>absent</td>\n",
       "      <td>normal_pink</td>\n",
       "      <td>more_3_sec</td>\n",
       "      <td>...</td>\n",
       "      <td>45.0</td>\n",
       "      <td>24.274436</td>\n",
       "      <td>cloudy</td>\n",
       "      <td>2.0</td>\n",
       "      <td>euthanized</td>\n",
       "      <td>no</td>\n",
       "      <td>3205</td>\n",
       "      <td>0</td>\n",
       "      <td>0</td>\n",
       "      <td>no</td>\n",
       "    </tr>\n",
       "    <tr>\n",
       "      <th>228</th>\n",
       "      <td>yes</td>\n",
       "      <td>young</td>\n",
       "      <td>534597</td>\n",
       "      <td>38.500000</td>\n",
       "      <td>120.0</td>\n",
       "      <td>70.0</td>\n",
       "      <td>cool</td>\n",
       "      <td>normal</td>\n",
       "      <td>normal_pink</td>\n",
       "      <td>less_3_sec</td>\n",
       "      <td>...</td>\n",
       "      <td>35.0</td>\n",
       "      <td>54.000000</td>\n",
       "      <td>clear</td>\n",
       "      <td>1.0</td>\n",
       "      <td>lived</td>\n",
       "      <td>yes</td>\n",
       "      <td>4205</td>\n",
       "      <td>3111</td>\n",
       "      <td>2209</td>\n",
       "      <td>no</td>\n",
       "    </tr>\n",
       "    <tr>\n",
       "      <th>243</th>\n",
       "      <td>yes</td>\n",
       "      <td>young</td>\n",
       "      <td>5291409</td>\n",
       "      <td>38.200000</td>\n",
       "      <td>124.0</td>\n",
       "      <td>88.0</td>\n",
       "      <td>normal</td>\n",
       "      <td>reduced</td>\n",
       "      <td>bright_pink</td>\n",
       "      <td>less_3_sec</td>\n",
       "      <td>...</td>\n",
       "      <td>47.0</td>\n",
       "      <td>8.000000</td>\n",
       "      <td>clear</td>\n",
       "      <td>2.3</td>\n",
       "      <td>lived</td>\n",
       "      <td>yes</td>\n",
       "      <td>9400</td>\n",
       "      <td>0</td>\n",
       "      <td>0</td>\n",
       "      <td>yes</td>\n",
       "    </tr>\n",
       "    <tr>\n",
       "      <th>247</th>\n",
       "      <td>yes</td>\n",
       "      <td>adult</td>\n",
       "      <td>527709</td>\n",
       "      <td>38.000000</td>\n",
       "      <td>108.0</td>\n",
       "      <td>60.0</td>\n",
       "      <td>warm</td>\n",
       "      <td>reduced</td>\n",
       "      <td>pale_cyanotic</td>\n",
       "      <td>less_3_sec</td>\n",
       "      <td>...</td>\n",
       "      <td>45.0</td>\n",
       "      <td>24.274436</td>\n",
       "      <td>serosanguious</td>\n",
       "      <td>2.3</td>\n",
       "      <td>lived</td>\n",
       "      <td>yes</td>\n",
       "      <td>2205</td>\n",
       "      <td>0</td>\n",
       "      <td>0</td>\n",
       "      <td>no</td>\n",
       "    </tr>\n",
       "    <tr>\n",
       "      <th>254</th>\n",
       "      <td>yes</td>\n",
       "      <td>young</td>\n",
       "      <td>5294539</td>\n",
       "      <td>38.800000</td>\n",
       "      <td>72.0</td>\n",
       "      <td>84.0</td>\n",
       "      <td>normal</td>\n",
       "      <td>normal</td>\n",
       "      <td>normal_pink</td>\n",
       "      <td>less_3_sec</td>\n",
       "      <td>...</td>\n",
       "      <td>33.0</td>\n",
       "      <td>3.300000</td>\n",
       "      <td>cloudy</td>\n",
       "      <td>2.3</td>\n",
       "      <td>died</td>\n",
       "      <td>yes</td>\n",
       "      <td>7111</td>\n",
       "      <td>0</td>\n",
       "      <td>0</td>\n",
       "      <td>no</td>\n",
       "    </tr>\n",
       "    <tr>\n",
       "      <th>264</th>\n",
       "      <td>no</td>\n",
       "      <td>adult</td>\n",
       "      <td>528590</td>\n",
       "      <td>38.168619</td>\n",
       "      <td>56.0</td>\n",
       "      <td>68.0</td>\n",
       "      <td>cool</td>\n",
       "      <td>normal</td>\n",
       "      <td>normal_pink</td>\n",
       "      <td>less_3_sec</td>\n",
       "      <td>...</td>\n",
       "      <td>40.0</td>\n",
       "      <td>6.000000</td>\n",
       "      <td>cloudy</td>\n",
       "      <td>2.3</td>\n",
       "      <td>euthanized</td>\n",
       "      <td>yes</td>\n",
       "      <td>5206</td>\n",
       "      <td>0</td>\n",
       "      <td>0</td>\n",
       "      <td>no</td>\n",
       "    </tr>\n",
       "    <tr>\n",
       "      <th>268</th>\n",
       "      <td>yes</td>\n",
       "      <td>adult</td>\n",
       "      <td>527883</td>\n",
       "      <td>39.300000</td>\n",
       "      <td>64.0</td>\n",
       "      <td>90.0</td>\n",
       "      <td>warm</td>\n",
       "      <td>reduced</td>\n",
       "      <td>normal_pink</td>\n",
       "      <td>less_3_sec</td>\n",
       "      <td>...</td>\n",
       "      <td>39.0</td>\n",
       "      <td>6.700000</td>\n",
       "      <td>cloudy</td>\n",
       "      <td>2.3</td>\n",
       "      <td>lived</td>\n",
       "      <td>yes</td>\n",
       "      <td>31110</td>\n",
       "      <td>0</td>\n",
       "      <td>0</td>\n",
       "      <td>no</td>\n",
       "    </tr>\n",
       "    <tr>\n",
       "      <th>294</th>\n",
       "      <td>yes</td>\n",
       "      <td>adult</td>\n",
       "      <td>533886</td>\n",
       "      <td>38.168619</td>\n",
       "      <td>120.0</td>\n",
       "      <td>70.0</td>\n",
       "      <td>cold</td>\n",
       "      <td>normal</td>\n",
       "      <td>pale_cyanotic</td>\n",
       "      <td>more_3_sec</td>\n",
       "      <td>...</td>\n",
       "      <td>55.0</td>\n",
       "      <td>65.000000</td>\n",
       "      <td>cloudy</td>\n",
       "      <td>2.3</td>\n",
       "      <td>euthanized</td>\n",
       "      <td>no</td>\n",
       "      <td>3205</td>\n",
       "      <td>0</td>\n",
       "      <td>0</td>\n",
       "      <td>no</td>\n",
       "    </tr>\n",
       "  </tbody>\n",
       "</table>\n",
       "<p>22 rows × 28 columns</p>\n",
       "</div>"
      ],
      "text/plain": [
       "    surgery    age  hospital_number  rectal_temp  pulse  respiratory_rate  \\\n",
       "3       yes  young          5290409    39.100000   72.0              84.0   \n",
       "20      yes  adult           530157    38.100000   72.0              60.0   \n",
       "23      yes  young           534998    38.300000  130.0              60.0   \n",
       "39      yes  young          5277409    39.200000  146.0              96.0   \n",
       "41       no  young          5288249    39.000000   72.0              72.0   \n",
       "82      yes  young          5290759    38.100000  100.0              80.0   \n",
       "84      yes  adult           529849    37.800000   60.0              80.0   \n",
       "103     yes  young          5292489    38.000000  140.0              68.0   \n",
       "106     yes  adult           528668    38.300000   52.0              96.0   \n",
       "120     yes  adult           528682    39.400000   54.0              66.0   \n",
       "125     yes  adult           528461    38.000000   42.0              68.0   \n",
       "184     yes  adult           534833    38.500000  120.0              60.0   \n",
       "185     yes  adult          5278331    39.300000   64.0              90.0   \n",
       "207     yes  adult           535338    37.800000   88.0              80.0   \n",
       "219     yes  adult           535029    39.200000   88.0              58.0   \n",
       "228     yes  young           534597    38.500000  120.0              70.0   \n",
       "243     yes  young          5291409    38.200000  124.0              88.0   \n",
       "247     yes  adult           527709    38.000000  108.0              60.0   \n",
       "254     yes  young          5294539    38.800000   72.0              84.0   \n",
       "264      no  adult           528590    38.168619   56.0              68.0   \n",
       "268     yes  adult           527883    39.300000   64.0              90.0   \n",
       "294     yes  adult           533886    38.168619  120.0              70.0   \n",
       "\n",
       "    temp_of_extremities peripheral_pulse mucous_membrane  \\\n",
       "3                  cold           normal   dark_cyanotic   \n",
       "20               normal           normal      bright_red   \n",
       "23                 cool          reduced     normal_pink   \n",
       "39                 cool           normal     normal_pink   \n",
       "41                 cool           normal     normal_pink   \n",
       "82                 cool           normal     bright_pink   \n",
       "84               normal          reduced     bright_pink   \n",
       "103              normal           normal     normal_pink   \n",
       "106                cool          reduced       pale_pink   \n",
       "120              normal           normal     bright_pink   \n",
       "125                cold           normal     normal_pink   \n",
       "184                cold          reduced   dark_cyanotic   \n",
       "185                warm          reduced     normal_pink   \n",
       "207                cool          reduced      bright_red   \n",
       "219                cold           absent     normal_pink   \n",
       "228                cool           normal     normal_pink   \n",
       "243              normal          reduced     bright_pink   \n",
       "247                warm          reduced   pale_cyanotic   \n",
       "254              normal           normal     normal_pink   \n",
       "264                cool           normal     normal_pink   \n",
       "268                warm          reduced     normal_pink   \n",
       "294                cold           normal   pale_cyanotic   \n",
       "\n",
       "    capillary_refill_time  ... packed_cell_volume total_protein  \\\n",
       "3              more_3_sec  ...               48.0      7.200000   \n",
       "20             more_3_sec  ...               46.0      6.100000   \n",
       "23             less_3_sec  ...               50.0     70.000000   \n",
       "39             less_3_sec  ...               45.0     24.274436   \n",
       "41             less_3_sec  ...               47.0      8.500000   \n",
       "82             less_3_sec  ...               36.0      5.700000   \n",
       "84             more_3_sec  ...               40.0      4.500000   \n",
       "103            less_3_sec  ...               39.0      5.300000   \n",
       "106            less_3_sec  ...               43.0      6.100000   \n",
       "120            less_3_sec  ...               39.0      6.000000   \n",
       "125            less_3_sec  ...               41.0      7.600000   \n",
       "184            more_3_sec  ...               54.0     24.274436   \n",
       "185            less_3_sec  ...               39.0      6.700000   \n",
       "207            more_3_sec  ...               64.0     89.000000   \n",
       "219            more_3_sec  ...               45.0     24.274436   \n",
       "228            less_3_sec  ...               35.0     54.000000   \n",
       "243            less_3_sec  ...               47.0      8.000000   \n",
       "247            less_3_sec  ...               45.0     24.274436   \n",
       "254            less_3_sec  ...               33.0      3.300000   \n",
       "264            less_3_sec  ...               40.0      6.000000   \n",
       "268            less_3_sec  ...               39.0      6.700000   \n",
       "294            more_3_sec  ...               55.0     65.000000   \n",
       "\n",
       "    abdomo_appearance abdomo_protein     outcome  surgical_lesion lesion_1  \\\n",
       "3       serosanguious            5.3        died              yes     2208   \n",
       "20             cloudy            2.3       lived              yes     2111   \n",
       "23             cloudy            2.3       lived              yes     3111   \n",
       "39             cloudy            2.3        died              yes     2113   \n",
       "41             cloudy            0.1       lived              yes     9400   \n",
       "82             cloudy            2.3       lived              yes     3111   \n",
       "84             cloudy            2.3       lived              yes     5206   \n",
       "103            cloudy            2.3       lived              yes     7111   \n",
       "106            cloudy            2.3       lived              yes     3209   \n",
       "120            cloudy            2.3       lived              yes     2206   \n",
       "125            cloudy            2.3       lived              yes     2205   \n",
       "184            cloudy            2.3       lived              yes     5400   \n",
       "185            cloudy            2.3       lived              yes    21110   \n",
       "207            cloudy            2.3  euthanized              yes     3205   \n",
       "219            cloudy            2.0  euthanized               no     3205   \n",
       "228             clear            1.0       lived              yes     4205   \n",
       "243             clear            2.3       lived              yes     9400   \n",
       "247     serosanguious            2.3       lived              yes     2205   \n",
       "254            cloudy            2.3        died              yes     7111   \n",
       "264            cloudy            2.3  euthanized              yes     5206   \n",
       "268            cloudy            2.3       lived              yes    31110   \n",
       "294            cloudy            2.3  euthanized               no     3205   \n",
       "\n",
       "    lesion_2  lesion_3  cp_data  \n",
       "3          0         0      yes  \n",
       "20         0         0       no  \n",
       "23         0         0       no  \n",
       "39         0         0       no  \n",
       "41         0         0      yes  \n",
       "82         0         0       no  \n",
       "84         0         0      yes  \n",
       "103        0         0       no  \n",
       "106        0         0      yes  \n",
       "120        0         0      yes  \n",
       "125        0         0       no  \n",
       "184        0         0       no  \n",
       "185        0         0       no  \n",
       "207        0         0       no  \n",
       "219        0         0       no  \n",
       "228     3111      2209       no  \n",
       "243        0         0      yes  \n",
       "247        0         0       no  \n",
       "254        0         0       no  \n",
       "264        0         0       no  \n",
       "268        0         0       no  \n",
       "294        0         0       no  \n",
       "\n",
       "[22 rows x 28 columns]"
      ]
     },
     "execution_count": 502,
     "metadata": {},
     "output_type": "execute_result"
    }
   ],
   "source": [
    "# here we filtering outlieres values\n",
    "data[(data['respiratory_rate'] < Lowran) | (data['respiratory_rate'] > Upperran )]"
   ]
  },
  {
   "cell_type": "code",
   "execution_count": 503,
   "metadata": {},
   "outputs": [
    {
     "data": {
      "text/plain": [
       "30.460580912863087"
      ]
     },
     "execution_count": 503,
     "metadata": {},
     "output_type": "execute_result"
    }
   ],
   "source": [
    "# here we get mean value of 'respiratory_rate' column.\n",
    "data['respiratory_rate'].mean()"
   ]
  },
  {
   "cell_type": "code",
   "execution_count": 504,
   "metadata": {},
   "outputs": [],
   "source": [
    "# here we replace outlieres values into this column mean value.\n",
    "data.iloc[[3,20,23,39,41,82,84,103,106,120,125,184,185,207,219,228,243,247,254,264,268,294],[5]] = 30.4"
   ]
  },
  {
   "cell_type": "code",
   "execution_count": 505,
   "metadata": {},
   "outputs": [
    {
     "data": {
      "text/html": [
       "<div>\n",
       "<style scoped>\n",
       "    .dataframe tbody tr th:only-of-type {\n",
       "        vertical-align: middle;\n",
       "    }\n",
       "\n",
       "    .dataframe tbody tr th {\n",
       "        vertical-align: top;\n",
       "    }\n",
       "\n",
       "    .dataframe thead th {\n",
       "        text-align: right;\n",
       "    }\n",
       "</style>\n",
       "<table border=\"1\" class=\"dataframe\">\n",
       "  <thead>\n",
       "    <tr style=\"text-align: right;\">\n",
       "      <th></th>\n",
       "      <th>surgery</th>\n",
       "      <th>age</th>\n",
       "      <th>hospital_number</th>\n",
       "      <th>rectal_temp</th>\n",
       "      <th>pulse</th>\n",
       "      <th>respiratory_rate</th>\n",
       "      <th>temp_of_extremities</th>\n",
       "      <th>peripheral_pulse</th>\n",
       "      <th>mucous_membrane</th>\n",
       "      <th>capillary_refill_time</th>\n",
       "      <th>...</th>\n",
       "      <th>packed_cell_volume</th>\n",
       "      <th>total_protein</th>\n",
       "      <th>abdomo_appearance</th>\n",
       "      <th>abdomo_protein</th>\n",
       "      <th>outcome</th>\n",
       "      <th>surgical_lesion</th>\n",
       "      <th>lesion_1</th>\n",
       "      <th>lesion_2</th>\n",
       "      <th>lesion_3</th>\n",
       "      <th>cp_data</th>\n",
       "    </tr>\n",
       "  </thead>\n",
       "  <tbody>\n",
       "  </tbody>\n",
       "</table>\n",
       "<p>0 rows × 28 columns</p>\n",
       "</div>"
      ],
      "text/plain": [
       "Empty DataFrame\n",
       "Columns: [surgery, age, hospital_number, rectal_temp, pulse, respiratory_rate, temp_of_extremities, peripheral_pulse, mucous_membrane, capillary_refill_time, pain, peristalsis, abdominal_distention, nasogastric_tube, nasogastric_reflux, nasogastric_reflux_ph, rectal_exam_feces, abdomen, packed_cell_volume, total_protein, abdomo_appearance, abdomo_protein, outcome, surgical_lesion, lesion_1, lesion_2, lesion_3, cp_data]\n",
       "Index: []\n",
       "\n",
       "[0 rows x 28 columns]"
      ]
     },
     "execution_count": 505,
     "metadata": {},
     "output_type": "execute_result"
    }
   ],
   "source": [
    "# again we filtering for double check outlieres\n",
    "data[(data['respiratory_rate'] < Lowran) | (data['respiratory_rate'] > Upperran )]"
   ]
  },
  {
   "cell_type": "code",
   "execution_count": 506,
   "metadata": {
    "scrolled": false
   },
   "outputs": [
    {
     "name": "stderr",
     "output_type": "stream",
     "text": [
      "C:\\Users\\ANOOP\\anaconda3\\lib\\site-packages\\seaborn\\_decorators.py:43: FutureWarning: Pass the following variable as a keyword arg: x. From version 0.12, the only valid positional argument will be `data`, and passing other arguments without an explicit keyword will result in an error or misinterpretation.\n",
      "  FutureWarning\n"
     ]
    },
    {
     "data": {
      "text/plain": [
       "<matplotlib.axes._subplots.AxesSubplot at 0x1c175f48808>"
      ]
     },
     "execution_count": 506,
     "metadata": {},
     "output_type": "execute_result"
    },
    {
     "data": {
      "image/png": "[encoded data removed]",
      "text/plain": [
       "<Figure size 432x288 with 1 Axes>"
      ]
     },
     "metadata": {
      "needs_background": "light"
     },
     "output_type": "display_data"
    }
   ],
   "source": [
    "# here we checking outlier visually of 'total_protein' column.\n",
    "sns.boxplot(data.total_protein)"
   ]
  },
  {
   "cell_type": "code",
   "execution_count": 507,
   "metadata": {},
   "outputs": [
    {
     "name": "stdout",
     "output_type": "stream",
     "text": [
      "-61.49999999999999 120.1\n"
     ]
    }
   ],
   "source": [
    "# here we getting upper range and lower range  both values\n",
    "Lowran, Upperran = outlinefree(data.total_protein)\n",
    "print(Lowran,Upperran)"
   ]
  },
  {
   "cell_type": "code",
   "execution_count": 508,
   "metadata": {},
   "outputs": [
    {
     "data": {
      "text/html": [
       "<div>\n",
       "<style scoped>\n",
       "    .dataframe tbody tr th:only-of-type {\n",
       "        vertical-align: middle;\n",
       "    }\n",
       "\n",
       "    .dataframe tbody tr th {\n",
       "        vertical-align: top;\n",
       "    }\n",
       "\n",
       "    .dataframe thead th {\n",
       "        text-align: right;\n",
       "    }\n",
       "</style>\n",
       "<table border=\"1\" class=\"dataframe\">\n",
       "  <thead>\n",
       "    <tr style=\"text-align: right;\">\n",
       "      <th></th>\n",
       "      <th>surgery</th>\n",
       "      <th>age</th>\n",
       "      <th>hospital_number</th>\n",
       "      <th>rectal_temp</th>\n",
       "      <th>pulse</th>\n",
       "      <th>respiratory_rate</th>\n",
       "      <th>temp_of_extremities</th>\n",
       "      <th>peripheral_pulse</th>\n",
       "      <th>mucous_membrane</th>\n",
       "      <th>capillary_refill_time</th>\n",
       "      <th>...</th>\n",
       "      <th>packed_cell_volume</th>\n",
       "      <th>total_protein</th>\n",
       "      <th>abdomo_appearance</th>\n",
       "      <th>abdomo_protein</th>\n",
       "      <th>outcome</th>\n",
       "      <th>surgical_lesion</th>\n",
       "      <th>lesion_1</th>\n",
       "      <th>lesion_2</th>\n",
       "      <th>lesion_3</th>\n",
       "      <th>cp_data</th>\n",
       "    </tr>\n",
       "  </thead>\n",
       "  <tbody>\n",
       "  </tbody>\n",
       "</table>\n",
       "<p>0 rows × 28 columns</p>\n",
       "</div>"
      ],
      "text/plain": [
       "Empty DataFrame\n",
       "Columns: [surgery, age, hospital_number, rectal_temp, pulse, respiratory_rate, temp_of_extremities, peripheral_pulse, mucous_membrane, capillary_refill_time, pain, peristalsis, abdominal_distention, nasogastric_tube, nasogastric_reflux, nasogastric_reflux_ph, rectal_exam_feces, abdomen, packed_cell_volume, total_protein, abdomo_appearance, abdomo_protein, outcome, surgical_lesion, lesion_1, lesion_2, lesion_3, cp_data]\n",
       "Index: []\n",
       "\n",
       "[0 rows x 28 columns]"
      ]
     },
     "execution_count": 508,
     "metadata": {},
     "output_type": "execute_result"
    }
   ],
   "source": [
    "# here we filtering outlieres values\n",
    "data[(data['total_protein'] < Lowran) | (data['total_protein'] > Upperran )]"
   ]
  },
  {
   "cell_type": "markdown",
   "metadata": {},
   "source": [
    "# Feature engineering"
   ]
  },
  {
   "cell_type": "code",
   "execution_count": 509,
   "metadata": {},
   "outputs": [],
   "source": [
    "# here we will convert all text  or categorical columns into numberic with the help of \"label encoding\"."
   ]
  },
  {
   "cell_type": "code",
   "execution_count": 510,
   "metadata": {},
   "outputs": [
    {
     "data": {
      "text/plain": [
       "(299, 28)"
      ]
     },
     "execution_count": 510,
     "metadata": {},
     "output_type": "execute_result"
    }
   ],
   "source": [
    "data.shape"
   ]
  },
  {
   "cell_type": "code",
   "execution_count": 511,
   "metadata": {},
   "outputs": [
    {
     "data": {
      "text/plain": [
       "Index(['surgery', 'age', 'hospital_number', 'rectal_temp', 'pulse',\n",
       "       'respiratory_rate', 'temp_of_extremities', 'peripheral_pulse',\n",
       "       'mucous_membrane', 'capillary_refill_time', 'pain', 'peristalsis',\n",
       "       'abdominal_distention', 'nasogastric_tube', 'nasogastric_reflux',\n",
       "       'nasogastric_reflux_ph', 'rectal_exam_feces', 'abdomen',\n",
       "       'packed_cell_volume', 'total_protein', 'abdomo_appearance',\n",
       "       'abdomo_protein', 'outcome', 'surgical_lesion', 'lesion_1', 'lesion_2',\n",
       "       'lesion_3', 'cp_data'],\n",
       "      dtype='object')"
      ]
     },
     "execution_count": 511,
     "metadata": {},
     "output_type": "execute_result"
    }
   ],
   "source": [
    "data.columns"
   ]
  },
  {
   "cell_type": "code",
   "execution_count": 512,
   "metadata": {},
   "outputs": [],
   "source": [
    "# here we are using \"get_dummies ()\" function for convert category or text or string into numeric values."
   ]
  },
  {
   "cell_type": "code",
   "execution_count": 513,
   "metadata": {},
   "outputs": [
    {
     "data": {
      "text/plain": [
       "yes    180\n",
       "no     119\n",
       "Name: surgery, dtype: int64"
      ]
     },
     "execution_count": 513,
     "metadata": {},
     "output_type": "execute_result"
    }
   ],
   "source": [
    "data.surgery.value_counts()"
   ]
  },
  {
   "cell_type": "code",
   "execution_count": 514,
   "metadata": {},
   "outputs": [],
   "source": [
    "data.surgery.replace(['no','yes'],[0,1], inplace=True)"
   ]
  },
  {
   "cell_type": "code",
   "execution_count": 515,
   "metadata": {},
   "outputs": [
    {
     "data": {
      "text/plain": [
       "1    180\n",
       "0    119\n",
       "Name: surgery, dtype: int64"
      ]
     },
     "execution_count": 515,
     "metadata": {},
     "output_type": "execute_result"
    }
   ],
   "source": [
    "data.surgery.value_counts()"
   ]
  },
  {
   "cell_type": "code",
   "execution_count": 516,
   "metadata": {},
   "outputs": [
    {
     "data": {
      "text/plain": [
       "adult    275\n",
       "young     24\n",
       "Name: age, dtype: int64"
      ]
     },
     "execution_count": 516,
     "metadata": {},
     "output_type": "execute_result"
    }
   ],
   "source": [
    "data.age.value_counts()"
   ]
  },
  {
   "cell_type": "code",
   "execution_count": 566,
   "metadata": {},
   "outputs": [],
   "source": [
    "data.cp_data.replace([\"no\",\"yes\"],[0,1], inplace=True)\n",
    "data.surgical_lesion.replace([\"no\",\"yes\"],[0,1], inplace=True)"
   ]
  },
  {
   "cell_type": "code",
   "execution_count": 517,
   "metadata": {},
   "outputs": [],
   "source": [
    "# here we replace adult and young into 0 and 1 \n",
    "data.age.replace(['adult','young'],[0,1], inplace=True)"
   ]
  },
  {
   "cell_type": "code",
   "execution_count": 518,
   "metadata": {},
   "outputs": [
    {
     "data": {
      "text/plain": [
       "0    275\n",
       "1     24\n",
       "Name: age, dtype: int64"
      ]
     },
     "execution_count": 518,
     "metadata": {},
     "output_type": "execute_result"
    }
   ],
   "source": [
    "data.age.value_counts()"
   ]
  },
  {
   "cell_type": "code",
   "execution_count": 519,
   "metadata": {},
   "outputs": [],
   "source": [
    "temp_of_extremities =  pd.get_dummies(data.temp_of_extremities)"
   ]
  },
  {
   "cell_type": "code",
   "execution_count": 520,
   "metadata": {},
   "outputs": [],
   "source": [
    "peripheral_pulse = pd.get_dummies(data.peripheral_pulse)"
   ]
  },
  {
   "cell_type": "code",
   "execution_count": 521,
   "metadata": {},
   "outputs": [],
   "source": [
    "mucous_membrane = pd.get_dummies(data.mucous_membrane)"
   ]
  },
  {
   "cell_type": "code",
   "execution_count": 522,
   "metadata": {},
   "outputs": [],
   "source": [
    "capillary_refill_time = pd.get_dummies(data.capillary_refill_time)"
   ]
  },
  {
   "cell_type": "code",
   "execution_count": 523,
   "metadata": {},
   "outputs": [],
   "source": [
    "pain = pd.get_dummies(data.pain)"
   ]
  },
  {
   "cell_type": "code",
   "execution_count": 524,
   "metadata": {},
   "outputs": [],
   "source": [
    "peristalsis = pd.get_dummies(data.peristalsis)"
   ]
  },
  {
   "cell_type": "code",
   "execution_count": 525,
   "metadata": {},
   "outputs": [],
   "source": [
    "abdominal_distention = pd.get_dummies(data.abdominal_distention)"
   ]
  },
  {
   "cell_type": "code",
   "execution_count": 526,
   "metadata": {},
   "outputs": [],
   "source": [
    "nasogastric_tube = pd.get_dummies(data.nasogastric_tube)"
   ]
  },
  {
   "cell_type": "code",
   "execution_count": 527,
   "metadata": {},
   "outputs": [],
   "source": [
    "nasogastric_reflux = pd.get_dummies(data.nasogastric_reflux)"
   ]
  },
  {
   "cell_type": "code",
   "execution_count": 528,
   "metadata": {},
   "outputs": [],
   "source": [
    "rectal_exam_feces =  pd.get_dummies(data.rectal_exam_feces)"
   ]
  },
  {
   "cell_type": "code",
   "execution_count": 529,
   "metadata": {},
   "outputs": [],
   "source": [
    "abdomen = pd.get_dummies(data.abdomen)"
   ]
  },
  {
   "cell_type": "code",
   "execution_count": 530,
   "metadata": {},
   "outputs": [],
   "source": [
    "abdomo_appearance =  pd.get_dummies(data.abdomo_appearance)"
   ]
  },
  {
   "cell_type": "code",
   "execution_count": 531,
   "metadata": {},
   "outputs": [
    {
     "data": {
      "text/html": [
       "<div>\n",
       "<style scoped>\n",
       "    .dataframe tbody tr th:only-of-type {\n",
       "        vertical-align: middle;\n",
       "    }\n",
       "\n",
       "    .dataframe tbody tr th {\n",
       "        vertical-align: top;\n",
       "    }\n",
       "\n",
       "    .dataframe thead th {\n",
       "        text-align: right;\n",
       "    }\n",
       "</style>\n",
       "<table border=\"1\" class=\"dataframe\">\n",
       "  <thead>\n",
       "    <tr style=\"text-align: right;\">\n",
       "      <th></th>\n",
       "      <th>cold</th>\n",
       "      <th>cool</th>\n",
       "      <th>normal</th>\n",
       "      <th>warm</th>\n",
       "      <th>absent</th>\n",
       "      <th>increased</th>\n",
       "      <th>normal</th>\n",
       "      <th>reduced</th>\n",
       "      <th>bright_pink</th>\n",
       "      <th>bright_red</th>\n",
       "      <th>...</th>\n",
       "      <th>increased</th>\n",
       "      <th>normal</th>\n",
       "      <th>distend_large</th>\n",
       "      <th>distend_small</th>\n",
       "      <th>firm</th>\n",
       "      <th>normal</th>\n",
       "      <th>other</th>\n",
       "      <th>clear</th>\n",
       "      <th>cloudy</th>\n",
       "      <th>serosanguious</th>\n",
       "    </tr>\n",
       "  </thead>\n",
       "  <tbody>\n",
       "    <tr>\n",
       "      <th>0</th>\n",
       "      <td>0</td>\n",
       "      <td>1</td>\n",
       "      <td>0</td>\n",
       "      <td>0</td>\n",
       "      <td>0</td>\n",
       "      <td>0</td>\n",
       "      <td>0</td>\n",
       "      <td>1</td>\n",
       "      <td>0</td>\n",
       "      <td>0</td>\n",
       "      <td>...</td>\n",
       "      <td>0</td>\n",
       "      <td>0</td>\n",
       "      <td>1</td>\n",
       "      <td>0</td>\n",
       "      <td>0</td>\n",
       "      <td>0</td>\n",
       "      <td>0</td>\n",
       "      <td>0</td>\n",
       "      <td>1</td>\n",
       "      <td>0</td>\n",
       "    </tr>\n",
       "    <tr>\n",
       "      <th>1</th>\n",
       "      <td>0</td>\n",
       "      <td>1</td>\n",
       "      <td>0</td>\n",
       "      <td>0</td>\n",
       "      <td>0</td>\n",
       "      <td>0</td>\n",
       "      <td>1</td>\n",
       "      <td>0</td>\n",
       "      <td>0</td>\n",
       "      <td>0</td>\n",
       "      <td>...</td>\n",
       "      <td>0</td>\n",
       "      <td>0</td>\n",
       "      <td>0</td>\n",
       "      <td>0</td>\n",
       "      <td>0</td>\n",
       "      <td>0</td>\n",
       "      <td>1</td>\n",
       "      <td>0</td>\n",
       "      <td>1</td>\n",
       "      <td>0</td>\n",
       "    </tr>\n",
       "  </tbody>\n",
       "</table>\n",
       "<p>2 rows × 48 columns</p>\n",
       "</div>"
      ],
      "text/plain": [
       "   cold  cool  normal  warm  absent  increased  normal  reduced  bright_pink  \\\n",
       "0     0     1       0     0       0          0       0        1            0   \n",
       "1     0     1       0     0       0          0       1        0            0   \n",
       "\n",
       "   bright_red  ...  increased  normal  distend_large  distend_small  firm  \\\n",
       "0           0  ...          0       0              1              0     0   \n",
       "1           0  ...          0       0              0              0     0   \n",
       "\n",
       "   normal  other  clear  cloudy  serosanguious  \n",
       "0       0      0      0       1              0  \n",
       "1       0      1      0       1              0  \n",
       "\n",
       "[2 rows x 48 columns]"
      ]
     },
     "execution_count": 531,
     "metadata": {},
     "output_type": "execute_result"
    }
   ],
   "source": [
    "newdata = pd.concat([temp_of_extremities, peripheral_pulse, mucous_membrane, capillary_refill_time,pain,\n",
    "                     peristalsis,abdominal_distention,nasogastric_tube,nasogastric_reflux,rectal_exam_feces,abdomen,\n",
    "                    abdomo_appearance], axis=1)\n",
    "newdata.head(2)"
   ]
  },
  {
   "cell_type": "code",
   "execution_count": 567,
   "metadata": {},
   "outputs": [
    {
     "data": {
      "text/html": [
       "<div>\n",
       "<style scoped>\n",
       "    .dataframe tbody tr th:only-of-type {\n",
       "        vertical-align: middle;\n",
       "    }\n",
       "\n",
       "    .dataframe tbody tr th {\n",
       "        vertical-align: top;\n",
       "    }\n",
       "\n",
       "    .dataframe thead th {\n",
       "        text-align: right;\n",
       "    }\n",
       "</style>\n",
       "<table border=\"1\" class=\"dataframe\">\n",
       "  <thead>\n",
       "    <tr style=\"text-align: right;\">\n",
       "      <th></th>\n",
       "      <th>surgery</th>\n",
       "      <th>age</th>\n",
       "      <th>hospital_number</th>\n",
       "      <th>rectal_temp</th>\n",
       "      <th>pulse</th>\n",
       "      <th>respiratory_rate</th>\n",
       "      <th>nasogastric_reflux_ph</th>\n",
       "      <th>packed_cell_volume</th>\n",
       "      <th>total_protein</th>\n",
       "      <th>abdomo_protein</th>\n",
       "      <th>surgical_lesion</th>\n",
       "      <th>lesion_1</th>\n",
       "      <th>lesion_2</th>\n",
       "      <th>lesion_3</th>\n",
       "      <th>cp_data</th>\n",
       "      <th>outcome</th>\n",
       "    </tr>\n",
       "  </thead>\n",
       "  <tbody>\n",
       "    <tr>\n",
       "      <th>0</th>\n",
       "      <td>0</td>\n",
       "      <td>0</td>\n",
       "      <td>530101</td>\n",
       "      <td>38.5</td>\n",
       "      <td>66.0</td>\n",
       "      <td>28.0</td>\n",
       "      <td>5.0</td>\n",
       "      <td>45.0</td>\n",
       "      <td>8.4</td>\n",
       "      <td>2.3</td>\n",
       "      <td>0</td>\n",
       "      <td>11300</td>\n",
       "      <td>0</td>\n",
       "      <td>0</td>\n",
       "      <td>0</td>\n",
       "      <td>died</td>\n",
       "    </tr>\n",
       "    <tr>\n",
       "      <th>1</th>\n",
       "      <td>1</td>\n",
       "      <td>0</td>\n",
       "      <td>534817</td>\n",
       "      <td>39.2</td>\n",
       "      <td>88.0</td>\n",
       "      <td>20.0</td>\n",
       "      <td>5.0</td>\n",
       "      <td>50.0</td>\n",
       "      <td>85.0</td>\n",
       "      <td>2.0</td>\n",
       "      <td>0</td>\n",
       "      <td>2208</td>\n",
       "      <td>0</td>\n",
       "      <td>0</td>\n",
       "      <td>0</td>\n",
       "      <td>euthanized</td>\n",
       "    </tr>\n",
       "  </tbody>\n",
       "</table>\n",
       "</div>"
      ],
      "text/plain": [
       "   surgery  age  hospital_number  rectal_temp  pulse  respiratory_rate  \\\n",
       "0        0    0           530101         38.5   66.0              28.0   \n",
       "1        1    0           534817         39.2   88.0              20.0   \n",
       "\n",
       "   nasogastric_reflux_ph  packed_cell_volume  total_protein  abdomo_protein  \\\n",
       "0                    5.0                45.0            8.4             2.3   \n",
       "1                    5.0                50.0           85.0             2.0   \n",
       "\n",
       "   surgical_lesion  lesion_1  lesion_2  lesion_3  cp_data     outcome  \n",
       "0                0     11300         0         0        0        died  \n",
       "1                0      2208         0         0        0  euthanized  "
      ]
     },
     "execution_count": 567,
     "metadata": {},
     "output_type": "execute_result"
    }
   ],
   "source": [
    "new2data = pd.concat([data.surgery, data.age,data.hospital_number, data.rectal_temp, data.pulse, data.respiratory_rate, data.nasogastric_reflux_ph,\n",
    "                     data.packed_cell_volume,data.total_protein,data.abdomo_protein,data.surgical_lesion,data.lesion_1,\n",
    "                      data.lesion_2,data.lesion_3,data.cp_data,data.outcome], axis=1)\n",
    "new2data.head(2)"
   ]
  },
  {
   "cell_type": "code",
   "execution_count": 533,
   "metadata": {},
   "outputs": [
    {
     "data": {
      "text/plain": [
       "(299, 16)"
      ]
     },
     "execution_count": 533,
     "metadata": {},
     "output_type": "execute_result"
    }
   ],
   "source": [
    "new2data.shape"
   ]
  },
  {
   "cell_type": "code",
   "execution_count": 568,
   "metadata": {},
   "outputs": [
    {
     "data": {
      "text/html": [
       "<div>\n",
       "<style scoped>\n",
       "    .dataframe tbody tr th:only-of-type {\n",
       "        vertical-align: middle;\n",
       "    }\n",
       "\n",
       "    .dataframe tbody tr th {\n",
       "        vertical-align: top;\n",
       "    }\n",
       "\n",
       "    .dataframe thead th {\n",
       "        text-align: right;\n",
       "    }\n",
       "</style>\n",
       "<table border=\"1\" class=\"dataframe\">\n",
       "  <thead>\n",
       "    <tr style=\"text-align: right;\">\n",
       "      <th></th>\n",
       "      <th>cold</th>\n",
       "      <th>cool</th>\n",
       "      <th>normal</th>\n",
       "      <th>warm</th>\n",
       "      <th>absent</th>\n",
       "      <th>increased</th>\n",
       "      <th>normal</th>\n",
       "      <th>reduced</th>\n",
       "      <th>bright_pink</th>\n",
       "      <th>bright_red</th>\n",
       "      <th>...</th>\n",
       "      <th>nasogastric_reflux_ph</th>\n",
       "      <th>packed_cell_volume</th>\n",
       "      <th>total_protein</th>\n",
       "      <th>abdomo_protein</th>\n",
       "      <th>surgical_lesion</th>\n",
       "      <th>lesion_1</th>\n",
       "      <th>lesion_2</th>\n",
       "      <th>lesion_3</th>\n",
       "      <th>cp_data</th>\n",
       "      <th>outcome</th>\n",
       "    </tr>\n",
       "  </thead>\n",
       "  <tbody>\n",
       "    <tr>\n",
       "      <th>0</th>\n",
       "      <td>0</td>\n",
       "      <td>1</td>\n",
       "      <td>0</td>\n",
       "      <td>0</td>\n",
       "      <td>0</td>\n",
       "      <td>0</td>\n",
       "      <td>0</td>\n",
       "      <td>1</td>\n",
       "      <td>0</td>\n",
       "      <td>0</td>\n",
       "      <td>...</td>\n",
       "      <td>5.0</td>\n",
       "      <td>45.0</td>\n",
       "      <td>8.4</td>\n",
       "      <td>2.3</td>\n",
       "      <td>0</td>\n",
       "      <td>11300</td>\n",
       "      <td>0</td>\n",
       "      <td>0</td>\n",
       "      <td>0</td>\n",
       "      <td>died</td>\n",
       "    </tr>\n",
       "    <tr>\n",
       "      <th>1</th>\n",
       "      <td>0</td>\n",
       "      <td>1</td>\n",
       "      <td>0</td>\n",
       "      <td>0</td>\n",
       "      <td>0</td>\n",
       "      <td>0</td>\n",
       "      <td>1</td>\n",
       "      <td>0</td>\n",
       "      <td>0</td>\n",
       "      <td>0</td>\n",
       "      <td>...</td>\n",
       "      <td>5.0</td>\n",
       "      <td>50.0</td>\n",
       "      <td>85.0</td>\n",
       "      <td>2.0</td>\n",
       "      <td>0</td>\n",
       "      <td>2208</td>\n",
       "      <td>0</td>\n",
       "      <td>0</td>\n",
       "      <td>0</td>\n",
       "      <td>euthanized</td>\n",
       "    </tr>\n",
       "  </tbody>\n",
       "</table>\n",
       "<p>2 rows × 64 columns</p>\n",
       "</div>"
      ],
      "text/plain": [
       "   cold  cool  normal  warm  absent  increased  normal  reduced  bright_pink  \\\n",
       "0     0     1       0     0       0          0       0        1            0   \n",
       "1     0     1       0     0       0          0       1        0            0   \n",
       "\n",
       "   bright_red  ...  nasogastric_reflux_ph  packed_cell_volume  total_protein  \\\n",
       "0           0  ...                    5.0                45.0            8.4   \n",
       "1           0  ...                    5.0                50.0           85.0   \n",
       "\n",
       "   abdomo_protein  surgical_lesion  lesion_1  lesion_2  lesion_3  cp_data  \\\n",
       "0             2.3                0     11300         0         0        0   \n",
       "1             2.0                0      2208         0         0        0   \n",
       "\n",
       "      outcome  \n",
       "0        died  \n",
       "1  euthanized  \n",
       "\n",
       "[2 rows x 64 columns]"
      ]
     },
     "execution_count": 568,
     "metadata": {},
     "output_type": "execute_result"
    }
   ],
   "source": [
    "final_data = pd.concat([newdata,new2data], axis=1)\n",
    "final_data.head(2)"
   ]
  },
  {
   "cell_type": "code",
   "execution_count": 569,
   "metadata": {},
   "outputs": [
    {
     "data": {
      "text/plain": [
       "(299, 64)"
      ]
     },
     "execution_count": 569,
     "metadata": {},
     "output_type": "execute_result"
    }
   ],
   "source": [
    "final_data.shape"
   ]
  },
  {
   "cell_type": "code",
   "execution_count": 575,
   "metadata": {},
   "outputs": [
    {
     "data": {
      "text/plain": [
       "2"
      ]
     },
     "execution_count": 575,
     "metadata": {},
     "output_type": "execute_result"
    }
   ],
   "source": [
    "features = final_data.iloc[:,:-1].values\n",
    "features.ndim"
   ]
  },
  {
   "cell_type": "code",
   "execution_count": 577,
   "metadata": {},
   "outputs": [
    {
     "data": {
      "text/plain": [
       "1"
      ]
     },
     "execution_count": 577,
     "metadata": {},
     "output_type": "execute_result"
    }
   ],
   "source": [
    "label = final_data.iloc[:,63].values\n",
    "label.ndim"
   ]
  },
  {
   "cell_type": "code",
   "execution_count": null,
   "metadata": {},
   "outputs": [],
   "source": [
    "# here we have a numeric dataset that is a very good thing for model prediction."
   ]
  },
  {
   "cell_type": "code",
   "execution_count": 589,
   "metadata": {},
   "outputs": [
    {
     "name": "stdout",
     "output_type": "stream",
     "text": [
      "testing score: 0.7166666666666667 , train score: 0.694560669456067 and seed 1 \n",
      "testing score: 0.8 , train score: 0.6861924686192469 and seed 6 \n",
      "testing score: 0.7333333333333333 , train score: 0.7154811715481172 and seed 7 \n",
      "testing score: 0.7333333333333333 , train score: 0.7154811715481172 and seed 12 \n",
      "testing score: 0.75 , train score: 0.7071129707112971 and seed 17 \n",
      "testing score: 0.7333333333333333 , train score: 0.7154811715481172 and seed 18 \n",
      "testing score: 0.7333333333333333 , train score: 0.7154811715481172 and seed 28 \n",
      "testing score: 0.7666666666666667 , train score: 0.702928870292887 and seed 30 \n",
      "testing score: 0.7333333333333333 , train score: 0.7071129707112971 and seed 34 \n",
      "testing score: 0.7666666666666667 , train score: 0.6820083682008368 and seed 40 \n",
      "testing score: 0.75 , train score: 0.7071129707112971 and seed 45 \n",
      "testing score: 0.7166666666666667 , train score: 0.7154811715481172 and seed 56 \n",
      "testing score: 0.7333333333333333 , train score: 0.702928870292887 and seed 73 \n",
      "testing score: 0.7166666666666667 , train score: 0.6903765690376569 and seed 77 \n",
      "testing score: 0.7166666666666667 , train score: 0.7112970711297071 and seed 83 \n",
      "testing score: 0.75 , train score: 0.7112970711297071 and seed 86 \n",
      "testing score: 0.7333333333333333 , train score: 0.698744769874477 and seed 89 \n",
      "testing score: 0.7166666666666667 , train score: 0.7112970711297071 and seed 94 \n",
      "testing score: 0.75 , train score: 0.7112970711297071 and seed 107 \n",
      "testing score: 0.7333333333333333 , train score: 0.702928870292887 and seed 110 \n",
      "testing score: 0.75 , train score: 0.7112970711297071 and seed 114 \n",
      "testing score: 0.7833333333333333 , train score: 0.6903765690376569 and seed 115 \n",
      "testing score: 0.7333333333333333 , train score: 0.7280334728033473 and seed 126 \n",
      "testing score: 0.8333333333333334 , train score: 0.6861924686192469 and seed 127 \n",
      "testing score: 0.7833333333333333 , train score: 0.6527196652719666 and seed 139 \n",
      "testing score: 0.7166666666666667 , train score: 0.7071129707112971 and seed 140 \n",
      "testing score: 0.7666666666666667 , train score: 0.7071129707112971 and seed 150 \n",
      "testing score: 0.75 , train score: 0.7112970711297071 and seed 157 \n",
      "testing score: 0.8 , train score: 0.698744769874477 and seed 159 \n",
      "testing score: 0.7333333333333333 , train score: 0.7280334728033473 and seed 160 \n",
      "testing score: 0.7333333333333333 , train score: 0.7071129707112971 and seed 161 \n",
      "testing score: 0.7333333333333333 , train score: 0.7071129707112971 and seed 162 \n",
      "testing score: 0.7833333333333333 , train score: 0.7071129707112971 and seed 184 \n",
      "testing score: 0.7333333333333333 , train score: 0.7112970711297071 and seed 193 \n",
      "testing score: 0.7166666666666667 , train score: 0.7154811715481172 and seed 206 \n",
      "testing score: 0.7333333333333333 , train score: 0.6820083682008368 and seed 212 \n",
      "testing score: 0.7333333333333333 , train score: 0.7154811715481172 and seed 219 \n",
      "testing score: 0.7666666666666667 , train score: 0.698744769874477 and seed 224 \n",
      "testing score: 0.7333333333333333 , train score: 0.7238493723849372 and seed 233 \n",
      "testing score: 0.7166666666666667 , train score: 0.7112970711297071 and seed 235 \n",
      "testing score: 0.7666666666666667 , train score: 0.7071129707112971 and seed 236 \n",
      "testing score: 0.7333333333333333 , train score: 0.7154811715481172 and seed 242 \n",
      "testing score: 0.7333333333333333 , train score: 0.7154811715481172 and seed 249 \n",
      "testing score: 0.7166666666666667 , train score: 0.702928870292887 and seed 253 \n",
      "testing score: 0.75 , train score: 0.7112970711297071 and seed 265 \n",
      "testing score: 0.7333333333333333 , train score: 0.7112970711297071 and seed 266 \n",
      "testing score: 0.7333333333333333 , train score: 0.7071129707112971 and seed 276 \n",
      "testing score: 0.75 , train score: 0.7112970711297071 and seed 283 \n",
      "testing score: 0.7166666666666667 , train score: 0.7154811715481172 and seed 293 \n",
      "testing score: 0.7833333333333333 , train score: 0.7071129707112971 and seed 298 \n",
      "testing score: 0.75 , train score: 0.7238493723849372 and seed 299 \n",
      "testing score: 0.75 , train score: 0.702928870292887 and seed 313 \n",
      "testing score: 0.7833333333333333 , train score: 0.702928870292887 and seed 327 \n",
      "testing score: 0.7333333333333333 , train score: 0.6861924686192469 and seed 336 \n",
      "testing score: 0.8166666666666667 , train score: 0.6820083682008368 and seed 343 \n",
      "testing score: 0.7666666666666667 , train score: 0.7071129707112971 and seed 348 \n",
      "testing score: 0.7333333333333333 , train score: 0.7112970711297071 and seed 354 \n",
      "testing score: 0.75 , train score: 0.6861924686192469 and seed 355 \n",
      "testing score: 0.8166666666666667 , train score: 0.694560669456067 and seed 369 \n",
      "testing score: 0.7333333333333333 , train score: 0.7154811715481172 and seed 399 \n"
     ]
    }
   ],
   "source": [
    "from sklearn.model_selection import train_test_split\n",
    "from sklearn.tree import DecisionTreeClassifier\n",
    "\n",
    "for i in range(1,400):\n",
    "    X_train,X_test,y_train,y_test = train_test_split(features,label,test_size=0.2,random_state=i)\n",
    "    \n",
    "    modelDtree = DecisionTreeClassifier(criterion='entropy',max_depth=3)\n",
    "    modelDtree.fit(X_train,y_train)\n",
    "    \n",
    "    training = modelDtree.score(X_train,y_train)\n",
    "    testing = modelDtree.score(X_test,y_test)\n",
    "    \n",
    "    if testing > training and testing > 0.7:\n",
    "        print(\"testing score: {} , train score: {} and seed {} \".format(testing,training,i))"
   ]
  },
  {
   "cell_type": "code",
   "execution_count": null,
   "metadata": {},
   "outputs": [],
   "source": [
    "# Decision Tree:       \n",
    "#---------------\n",
    "#                                    \"Balanced model\"\n",
    "#                                   ------------------\n",
    "# criterion='entropy',max_depth=2\n",
    "# testing score: 0.75 , train score: 0.6610878661087866 and seed 327\n",
    "# criterion='gini',max_depth=2\n",
    "# testing score: 0.75 , train score: 0.6778242677824268 and seed 162\n",
    "#-----------------------------------------------------------------------------------------------------------\n",
    "\n",
    "#                                    \"underfitting model\"\n",
    "#                                   ------------------------\n",
    "# criterion='entropy',max_depth=3\n",
    "# testing score: 0.75 , train score: 0.6610878661087866 and seed 327\n",
    "# criterion='gini',max_depth=3\n",
    "# testing score: 0.85 , train score: 0.6861924686192469 and seed 355 "
   ]
  },
  {
   "cell_type": "code",
   "execution_count": 591,
   "metadata": {},
   "outputs": [],
   "source": [
    "from sklearn.ensemble import RandomForestClassifier\n",
    "modelRFC = RandomForestClassifier()"
   ]
  },
  {
   "cell_type": "code",
   "execution_count": 592,
   "metadata": {},
   "outputs": [
    {
     "data": {
      "text/plain": [
       "RandomForestClassifier(bootstrap=True, ccp_alpha=0.0, class_weight=None,\n",
       "                       criterion='gini', max_depth=None, max_features='auto',\n",
       "                       max_leaf_nodes=None, max_samples=None,\n",
       "                       min_impurity_decrease=0.0, min_impurity_split=None,\n",
       "                       min_samples_leaf=1, min_samples_split=2,\n",
       "                       min_weight_fraction_leaf=0.0, n_estimators=100,\n",
       "                       n_jobs=None, oob_score=False, random_state=None,\n",
       "                       verbose=0, warm_start=False)"
      ]
     },
     "execution_count": 592,
     "metadata": {},
     "output_type": "execute_result"
    }
   ],
   "source": [
    "modelRFC.fit(X_train,y_train)"
   ]
  },
  {
   "cell_type": "code",
   "execution_count": null,
   "metadata": {},
   "outputs": [],
   "source": [
    "# here we are using the \"Random Forest Classifier\" algorithm for a better model."
   ]
  },
  {
   "cell_type": "code",
   "execution_count": 602,
   "metadata": {},
   "outputs": [
    {
     "name": "stdout",
     "output_type": "stream",
     "text": [
      "testing score: 0.8333333333333334 , train score: 0.8200836820083682 and seed 6 \n",
      "testing score: 0.8166666666666667 , train score: 0.799163179916318 and seed 10 \n",
      "testing score: 0.8166666666666667 , train score: 0.803347280334728 and seed 127 \n",
      "testing score: 0.8333333333333334 , train score: 0.7866108786610879 and seed 297 \n"
     ]
    }
   ],
   "source": [
    "from sklearn.model_selection import train_test_split\n",
    "#from sklearn.tree import DecisionTreeClassifier\n",
    "from sklearn.ensemble import RandomForestClassifier\n",
    "\n",
    "for i in range(1,300):\n",
    "    X_train,X_test,y_train,y_test = train_test_split(features,label,test_size=0.2,random_state=i)\n",
    "    \n",
    "    modelRFC = RandomForestClassifier(criterion='gini',max_depth=4)\n",
    "    modelRFC.fit(X_train,y_train)\n",
    "    \n",
    "    training = modelRFC.score(X_train,y_train)\n",
    "    testing = modelRFC.score(X_test,y_test)\n",
    "    \n",
    "    if testing > training and testing > 0.8:\n",
    "        print(\"testing score: {} , train score: {} and seed {} \".format(testing,training,i))"
   ]
  },
  {
   "cell_type": "code",
   "execution_count": null,
   "metadata": {},
   "outputs": [],
   "source": [
    "# random forest classifier:      \n",
    "#--------------------------\n",
    "#                                   \"Underfiting model\"\n",
    "#                                  ----------------------\n",
    "# criterion='gini' and max_depth=3\n",
    "# testing score: 0.8333333333333334 , train score: 0.7405857740585774 and seed 26\n",
    "# testing score: 0.8666666666666667 , train score: 0.7112970711297071 and seed 388\n",
    "# criterion='entropy' and max_depth=3\n",
    "# testing score: 0.8166666666666667 , train score: 0.7112970711297071 and seed 388\n",
    "#testing score: 0.8166666666666667 , train score: 0.7280334728033473 and seed 289\n",
    "#-----------------------------------------------------------------------------------------------------\n",
    "#                                  \" Balanced model\"\n",
    "#                                ------------------------\n",
    "# criterion='gini' and max_depth=4\n",
    "# testing score: 0.8333333333333334 , train score: 0.8200836820083682 and seed 6\n",
    "# criterion='entropy' and max_depth=4\n",
    "# testing score: 0.8333333333333334 , train score: 0.8158995815899581 and seed 289\n",
    "\n",
    "\n",
    "#---------------------------------------------------------------------------------------------------------\n",
    "#                                   \"Overfitting model\"\n",
    "#                                   --------------------\n",
    "# criterion='gini' and max_depth=5\n",
    "# none\n",
    "# criterion='entropy' and max_depth=5\n",
    "# none"
   ]
  },
  {
   "cell_type": "code",
   "execution_count": 604,
   "metadata": {},
   "outputs": [
    {
     "name": "stdout",
     "output_type": "stream",
     "text": [
      "testing score: 0.8166666666666667 , train score: 0.799163179916318 and seed 299 \n"
     ]
    }
   ],
   "source": [
    "from sklearn.model_selection import train_test_split\n",
    "from sklearn.ensemble import RandomForestClassifier\n",
    "\n",
    "\n",
    "X_train,X_test,y_train,y_test = train_test_split(features,label,test_size=0.2,random_state=6)\n",
    "    \n",
    "modelRFC = RandomForestClassifier(criterion='gini',max_depth=4)\n",
    "modelRFC.fit(X_train,y_train)\n",
    "    \n",
    "training = modelRFC.score(X_train,y_train)\n",
    "testing = modelRFC.score(X_test,y_test)   \n",
    "   \n",
    "print(\"testing score: {} , train score: {} and seed {} \".format(testing,training,i))"
   ]
  },
  {
   "cell_type": "code",
   "execution_count": 605,
   "metadata": {},
   "outputs": [
    {
     "name": "stdout",
     "output_type": "stream",
     "text": [
      "testing score: 0.8 , train score: 0.7824267782426778 and seed 299 \n"
     ]
    }
   ],
   "source": [
    "from sklearn.model_selection import train_test_split\n",
    "from sklearn.ensemble import RandomForestClassifier\n",
    "\n",
    "\n",
    "X_train,X_test,y_train,y_test = train_test_split(features,label,test_size=0.2,random_state=289)\n",
    "    \n",
    "modelRFC = RandomForestClassifier(criterion='entropy',max_depth=4)\n",
    "modelRFC.fit(X_train,y_train)\n",
    "    \n",
    "training = modelRFC.score(X_train,y_train)\n",
    "testing = modelRFC.score(X_test,y_test)   \n",
    "   \n",
    "print(\"testing score: {} , train score: {} and seed {} \".format(testing,training,i))"
   ]
  },
  {
   "cell_type": "markdown",
   "metadata": {},
   "source": [
    "# Conclusion: \"Random Forest Classification\" algorithm gives us a better result comparison of \"Decision Tree\" algorithms."
   ]
  }
 ],
 "metadata": {
  "kernelspec": {
   "display_name": "Python 3",
   "language": "python",
   "name": "python3"
  },
  "language_info": {
   "codemirror_mode": {
    "name": "ipython",
    "version": 3
   },
   "file_extension": ".py",
   "mimetype": "text/x-python",
   "name": "python",
   "nbconvert_exporter": "python",
   "pygments_lexer": "ipython3",
   "version": "3.7.6"
  }
 },
 "nbformat": 4,
 "nbformat_minor": 4
}
